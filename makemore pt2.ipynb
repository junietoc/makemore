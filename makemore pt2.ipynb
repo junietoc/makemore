{
 "cells": [
  {
   "cell_type": "markdown",
   "id": "212e131a-0600-43c2-b064-d39e91993800",
   "metadata": {},
   "source": [
    "## Makemore MLP"
   ]
  },
  {
   "cell_type": "code",
   "execution_count": 1,
   "id": "93d2fa5d-c94a-42ce-8d9e-74602a17e8d6",
   "metadata": {},
   "outputs": [],
   "source": [
    "import torch"
   ]
  },
  {
   "cell_type": "code",
   "execution_count": 2,
   "id": "a26fb39e-4e62-4a00-a383-2c5e596b21c8",
   "metadata": {},
   "outputs": [],
   "source": [
    "import torch.nn.functional as F"
   ]
  },
  {
   "cell_type": "code",
   "execution_count": 74,
   "id": "6d89ca70-b7bc-450e-83d0-5c4e9293a1e8",
   "metadata": {},
   "outputs": [],
   "source": [
    "from matplotlib import pyplot as plt"
   ]
  },
  {
   "cell_type": "markdown",
   "id": "2c042f72-8385-4435-a20e-fd86fe6814f8",
   "metadata": {},
   "source": [
    "### Build vocabulary"
   ]
  },
  {
   "cell_type": "code",
   "execution_count": 3,
   "id": "c10acd47-0c96-48f9-b29f-cc55dbd8b263",
   "metadata": {},
   "outputs": [],
   "source": [
    "words = open('names.txt','r').read().splitlines()"
   ]
  },
  {
   "cell_type": "code",
   "execution_count": 4,
   "id": "d494a964-4739-4288-82ca-df1da46bdbb8",
   "metadata": {},
   "outputs": [
    {
     "name": "stdout",
     "output_type": "stream",
     "text": [
      "{1: 'a', 2: 'b', 3: 'c', 4: 'd', 5: 'e', 6: 'f', 7: 'g', 8: 'h', 9: 'i', 10: 'j', 11: 'k', 12: 'l', 13: 'm', 14: 'n', 15: 'o', 16: 'p', 17: 'q', 18: 'r', 19: 's', 20: 't', 21: 'u', 22: 'v', 23: 'w', 24: 'x', 25: 'y', 26: 'z', 0: '.'}\n"
     ]
    }
   ],
   "source": [
    "chars = sorted(list(set(''.join(words))))\n",
    "stoi = {s:i+1 for i,s in enumerate(chars)}\n",
    "stoi['.'] = 0\n",
    "itos = {i:s for s,i in stoi.items()}\n",
    "print(itos)"
   ]
  },
  {
   "cell_type": "markdown",
   "id": "ec49e1cf-5299-467d-be78-535ae66f789b",
   "metadata": {},
   "source": [
    "### Build dataset"
   ]
  },
  {
   "cell_type": "code",
   "execution_count": 5,
   "id": "47e399ad-ba04-47fc-ac79-5f0290516245",
   "metadata": {},
   "outputs": [
    {
     "name": "stdout",
     "output_type": "stream",
     "text": [
      "emma\n",
      "... ---> e\n",
      "..e ---> m\n",
      ".em ---> m\n",
      "emm ---> a\n",
      "mma ---> .\n",
      "olivia\n",
      "... ---> o\n",
      "..o ---> l\n",
      ".ol ---> i\n",
      "oli ---> v\n",
      "liv ---> i\n",
      "ivi ---> a\n",
      "via ---> .\n",
      "ava\n",
      "... ---> a\n",
      "..a ---> v\n",
      ".av ---> a\n",
      "ava ---> .\n",
      "isabella\n",
      "... ---> i\n",
      "..i ---> s\n",
      ".is ---> a\n",
      "isa ---> b\n",
      "sab ---> e\n",
      "abe ---> l\n",
      "bel ---> l\n",
      "ell ---> a\n",
      "lla ---> .\n",
      "sophia\n",
      "... ---> s\n",
      "..s ---> o\n",
      ".so ---> p\n",
      "sop ---> h\n",
      "oph ---> i\n",
      "phi ---> a\n",
      "hia ---> .\n"
     ]
    }
   ],
   "source": [
    "block_size = 3\n",
    "X, Y = [], []\n",
    "for w in words[:5]:\n",
    "    print(w)\n",
    "    context = [0] * block_size\n",
    "    for ch in w + '.':\n",
    "        ix = stoi[ch]\n",
    "        X.append(context)\n",
    "        Y.append(ix)\n",
    "        print(''.join(itos[i] for i in context), '--->', itos[ix])\n",
    "        context = context[1:] + [ix]\n",
    "\n",
    "X = torch.tensor(X)\n",
    "Y = torch.tensor(Y)\n",
    "        "
   ]
  },
  {
   "cell_type": "code",
   "execution_count": 6,
   "id": "1596cae9-875c-47b7-a6bc-49720ed44efc",
   "metadata": {},
   "outputs": [
    {
     "data": {
      "text/plain": [
       "(torch.Size([32, 3]), torch.int64, torch.Size([32]), torch.int64)"
      ]
     },
     "execution_count": 6,
     "metadata": {},
     "output_type": "execute_result"
    }
   ],
   "source": [
    "X.shape, X.dtype, Y.shape, Y.dtype"
   ]
  },
  {
   "cell_type": "code",
   "execution_count": 7,
   "id": "1f4be9e5-99b8-4ea4-a4a5-bb9412f23da9",
   "metadata": {},
   "outputs": [
    {
     "data": {
      "text/plain": [
       "tensor([ 1.2449, -0.3995])"
      ]
     },
     "execution_count": 7,
     "metadata": {},
     "output_type": "execute_result"
    }
   ],
   "source": [
    "C = torch.randn([27,2])\n",
    "C[3]"
   ]
  },
  {
   "cell_type": "code",
   "execution_count": 8,
   "id": "2c3cbdf8-290e-41e9-9043-63c809b80c80",
   "metadata": {},
   "outputs": [
    {
     "data": {
      "text/plain": [
       "tensor([ 1.2449, -0.3995])"
      ]
     },
     "execution_count": 8,
     "metadata": {},
     "output_type": "execute_result"
    }
   ],
   "source": [
    "F.one_hot(torch.tensor(3), num_classes=27).float() @ C"
   ]
  },
  {
   "cell_type": "code",
   "execution_count": 9,
   "id": "55b0ec71-9748-4ced-aa8c-c2b46cf2b1f4",
   "metadata": {},
   "outputs": [
    {
     "data": {
      "text/plain": [
       "tensor(1)"
      ]
     },
     "execution_count": 9,
     "metadata": {},
     "output_type": "execute_result"
    }
   ],
   "source": [
    "# 31th example 3rd character is an \"a\" = tensor(1)\n",
    "X[31][2]"
   ]
  },
  {
   "cell_type": "code",
   "execution_count": 10,
   "id": "e44db4f7-fe0a-47d1-a507-348f80b8d9de",
   "metadata": {},
   "outputs": [
    {
     "data": {
      "text/plain": [
       "torch.Size([32, 3, 2])"
      ]
     },
     "execution_count": 10,
     "metadata": {},
     "output_type": "execute_result"
    }
   ],
   "source": [
    "emb = C[X]\n",
    "# shape is [32,3,2] 32 training examples, of 3 (block size), 2 dimensions (embedding dimesion)\n",
    "emb.shape"
   ]
  },
  {
   "cell_type": "code",
   "execution_count": 11,
   "id": "0f912961-a159-4f01-bb5b-65de73d488d3",
   "metadata": {},
   "outputs": [
    {
     "data": {
      "text/plain": [
       "torch.Size([32, 2])"
      ]
     },
     "execution_count": 11,
     "metadata": {},
     "output_type": "execute_result"
    }
   ],
   "source": [
    "emb[:,0,:].shape"
   ]
  },
  {
   "cell_type": "markdown",
   "id": "f8b38f25-ef90-435d-8f2a-9e6ebb7e0e15",
   "metadata": {},
   "source": [
    "### Weights and biases\n",
    "We need to flatten one dimension to perform the multiplication. The input layer receives a vector of 3 by 2 (block size and embedding size) "
   ]
  },
  {
   "cell_type": "code",
   "execution_count": 12,
   "id": "2cb89234-27c3-4a80-85e2-9b443b3d6061",
   "metadata": {},
   "outputs": [
    {
     "data": {
      "text/plain": [
       "torch.Size([32, 6])"
      ]
     },
     "execution_count": 12,
     "metadata": {},
     "output_type": "execute_result"
    }
   ],
   "source": [
    "torch.cat(torch.unbind(emb,1),1).shape\n",
    "# concatenation is ineffiecient and creates all kinds of memory"
   ]
  },
  {
   "cell_type": "code",
   "execution_count": 13,
   "id": "d896785d-9302-417b-9327-ca88ae885c0a",
   "metadata": {
    "scrolled": true
   },
   "outputs": [
    {
     "data": {
      "text/plain": [
       "tensor([[-0.4918, -0.5377, -0.4918, -0.5377, -0.4918, -0.5377],\n",
       "        [-0.4918, -0.5377, -0.4918, -0.5377, -0.5764, -0.1198],\n",
       "        [-0.4918, -0.5377, -0.5764, -0.1198, -1.4281,  0.3479],\n",
       "        [-0.5764, -0.1198, -1.4281,  0.3479, -1.4281,  0.3479],\n",
       "        [-1.4281,  0.3479, -1.4281,  0.3479,  0.0317,  0.9032],\n",
       "        [-0.4918, -0.5377, -0.4918, -0.5377, -0.4918, -0.5377],\n",
       "        [-0.4918, -0.5377, -0.4918, -0.5377,  1.2473, -0.7499],\n",
       "        [-0.4918, -0.5377,  1.2473, -0.7499,  0.5369,  0.6574],\n",
       "        [ 1.2473, -0.7499,  0.5369,  0.6574,  0.0698, -0.4031],\n",
       "        [ 0.5369,  0.6574,  0.0698, -0.4031,  0.6664, -0.5742],\n",
       "        [ 0.0698, -0.4031,  0.6664, -0.5742,  0.0698, -0.4031],\n",
       "        [ 0.6664, -0.5742,  0.0698, -0.4031,  0.0317,  0.9032],\n",
       "        [-0.4918, -0.5377, -0.4918, -0.5377, -0.4918, -0.5377],\n",
       "        [-0.4918, -0.5377, -0.4918, -0.5377,  0.0317,  0.9032],\n",
       "        [-0.4918, -0.5377,  0.0317,  0.9032,  0.6664, -0.5742],\n",
       "        [ 0.0317,  0.9032,  0.6664, -0.5742,  0.0317,  0.9032],\n",
       "        [-0.4918, -0.5377, -0.4918, -0.5377, -0.4918, -0.5377],\n",
       "        [-0.4918, -0.5377, -0.4918, -0.5377,  0.0698, -0.4031],\n",
       "        [-0.4918, -0.5377,  0.0698, -0.4031,  0.4596, -0.5538],\n",
       "        [ 0.0698, -0.4031,  0.4596, -0.5538,  0.0317,  0.9032],\n",
       "        [ 0.4596, -0.5538,  0.0317,  0.9032,  1.0455,  0.7211],\n",
       "        [ 0.0317,  0.9032,  1.0455,  0.7211, -0.5764, -0.1198],\n",
       "        [ 1.0455,  0.7211, -0.5764, -0.1198,  0.5369,  0.6574],\n",
       "        [-0.5764, -0.1198,  0.5369,  0.6574,  0.5369,  0.6574],\n",
       "        [ 0.5369,  0.6574,  0.5369,  0.6574,  0.0317,  0.9032],\n",
       "        [-0.4918, -0.5377, -0.4918, -0.5377, -0.4918, -0.5377],\n",
       "        [-0.4918, -0.5377, -0.4918, -0.5377,  0.4596, -0.5538],\n",
       "        [-0.4918, -0.5377,  0.4596, -0.5538,  1.2473, -0.7499],\n",
       "        [ 0.4596, -0.5538,  1.2473, -0.7499, -0.6779, -0.5446],\n",
       "        [ 1.2473, -0.7499, -0.6779, -0.5446, -1.7783,  0.8526],\n",
       "        [-0.6779, -0.5446, -1.7783,  0.8526,  0.0698, -0.4031],\n",
       "        [-1.7783,  0.8526,  0.0698, -0.4031,  0.0317,  0.9032]])"
      ]
     },
     "execution_count": 13,
     "metadata": {},
     "output_type": "execute_result"
    }
   ],
   "source": [
    "emb.view(32,6)"
   ]
  },
  {
   "cell_type": "code",
   "execution_count": 14,
   "id": "c865aac8-a8aa-4cbe-85fd-e2aa44a0d67c",
   "metadata": {},
   "outputs": [],
   "source": [
    "# input size and neurons\n",
    "\n",
    "W1 = torch.randn((6,100))\n",
    "b1 = torch.randn(100)"
   ]
  },
  {
   "cell_type": "code",
   "execution_count": 15,
   "id": "041ef04d-f214-49c9-8d55-ac74cfb02cb1",
   "metadata": {},
   "outputs": [],
   "source": [
    "h = emb.view(emb.shape[0], 6) @ W1 + b1\n",
    "# or emb.view(-1, 6) with \"-1\" pytorch will infer what the other dimension should be to sum up to the correct one"
   ]
  },
  {
   "cell_type": "code",
   "execution_count": 16,
   "id": "59ce5b72-205f-449b-906d-d6b4167b11ee",
   "metadata": {},
   "outputs": [
    {
     "data": {
      "text/plain": [
       "(torch.Size([32, 100]), torch.Size([100]))"
      ]
     },
     "execution_count": 16,
     "metadata": {},
     "output_type": "execute_result"
    }
   ],
   "source": [
    "# two broadcastable shapes:\n",
    "(emb.view(emb.shape[0], 6) @ W1).shape, b1.shape"
   ]
  },
  {
   "cell_type": "code",
   "execution_count": 17,
   "id": "b74f53b7-0eff-40f2-a1cb-00b8e116399a",
   "metadata": {},
   "outputs": [],
   "source": [
    "h = torch.tanh(emb.view(-1,6) @ W1 + b1)"
   ]
  },
  {
   "cell_type": "code",
   "execution_count": 30,
   "id": "a462bead-3e6b-4e01-9be0-bf746779e347",
   "metadata": {
    "scrolled": true
   },
   "outputs": [
    {
     "data": {
      "text/plain": [
       "torch.Size([32, 100])"
      ]
     },
     "execution_count": 30,
     "metadata": {},
     "output_type": "execute_result"
    }
   ],
   "source": [
    "h.shape"
   ]
  },
  {
   "cell_type": "code",
   "execution_count": 19,
   "id": "546dbed7-1c59-4fb4-8894-f007c830014d",
   "metadata": {},
   "outputs": [],
   "source": [
    "# 27 characters are output\n",
    "W2 = torch.randn((100, 27))\n",
    "b2 = torch.randn(27)"
   ]
  },
  {
   "cell_type": "code",
   "execution_count": 20,
   "id": "06808f31-7af9-473e-bdfe-0c5acea013e3",
   "metadata": {},
   "outputs": [],
   "source": [
    "logits = h @ W2 + b2"
   ]
  },
  {
   "cell_type": "code",
   "execution_count": 36,
   "id": "03467a8a-7d0b-4025-b05f-984581424808",
   "metadata": {},
   "outputs": [
    {
     "data": {
      "text/plain": [
       "torch.Size([32, 27])"
      ]
     },
     "execution_count": 36,
     "metadata": {},
     "output_type": "execute_result"
    }
   ],
   "source": [
    "logits.shape"
   ]
  },
  {
   "cell_type": "code",
   "execution_count": 21,
   "id": "94693272-28f4-45ed-b4ff-73bb1b381f0f",
   "metadata": {},
   "outputs": [
    {
     "data": {
      "text/plain": [
       "torch.Size([32, 27])"
      ]
     },
     "execution_count": 21,
     "metadata": {},
     "output_type": "execute_result"
    }
   ],
   "source": [
    "logits.shape"
   ]
  },
  {
   "cell_type": "code",
   "execution_count": 37,
   "id": "3207f05b-2ba5-4c08-b270-70b400802ace",
   "metadata": {},
   "outputs": [],
   "source": [
    "counts = logits.exp()"
   ]
  },
  {
   "cell_type": "code",
   "execution_count": 40,
   "id": "2cc9c470-aea2-42ed-b83b-03a59208511b",
   "metadata": {},
   "outputs": [
    {
     "data": {
      "text/plain": [
       "tensor(1.5194e+12)"
      ]
     },
     "execution_count": 40,
     "metadata": {},
     "output_type": "execute_result"
    }
   ],
   "source": [
    "counts.max()"
   ]
  },
  {
   "cell_type": "code",
   "execution_count": 41,
   "id": "da01ac95-0d6f-43c2-91ed-89bb77547482",
   "metadata": {},
   "outputs": [],
   "source": [
    "# counts are normalized so they sum to 1\n",
    "prob = counts / counts.sum(1, keepdims = True)"
   ]
  },
  {
   "cell_type": "code",
   "execution_count": 42,
   "id": "a10ad7a0-580d-4e5c-8a11-e2eac6f41f5d",
   "metadata": {},
   "outputs": [
    {
     "data": {
      "text/plain": [
       "tensor(1.)"
      ]
     },
     "execution_count": 42,
     "metadata": {},
     "output_type": "execute_result"
    }
   ],
   "source": [
    "prob[0].sum()"
   ]
  },
  {
   "cell_type": "code",
   "execution_count": 43,
   "id": "bf2d37cf-6db2-4469-b782-586f081d7378",
   "metadata": {},
   "outputs": [
    {
     "data": {
      "text/plain": [
       "tensor([4.4849e-05, 1.8640e-07, 3.1148e-06, 9.6532e-11, 1.3769e-05, 8.3945e-09,\n",
       "        7.1073e-06, 5.9277e-06, 9.8619e-08, 1.9752e-06, 3.9194e-03, 7.9779e-06,\n",
       "        1.8959e-06, 1.2318e-08, 5.9122e-02, 1.0168e-06, 5.7975e-07, 4.3573e-12,\n",
       "        8.0100e-04, 2.6147e-08, 1.6556e-15, 2.4621e-13, 1.4649e-09, 3.2818e-04,\n",
       "        6.6900e-07, 4.9880e-11, 9.8043e-10, 1.5874e-07, 5.1764e-08, 4.9212e-07,\n",
       "        1.8086e-08, 4.8019e-09])"
      ]
     },
     "execution_count": 43,
     "metadata": {},
     "output_type": "execute_result"
    }
   ],
   "source": [
    "# actual probabilities for the correct output character (for now without training)\n",
    "# torch.arange(32), Y this means \"example i, character Y (the correct character)\"\n",
    "prob[torch.arange(32), Y]"
   ]
  },
  {
   "cell_type": "code",
   "execution_count": 44,
   "id": "934d8c07-d171-4398-b04a-9ecddf7471b0",
   "metadata": {},
   "outputs": [
    {
     "data": {
      "text/plain": [
       "torch.Size([32, 27])"
      ]
     },
     "execution_count": 44,
     "metadata": {},
     "output_type": "execute_result"
    }
   ],
   "source": [
    "prob.shape"
   ]
  },
  {
   "cell_type": "code",
   "execution_count": 45,
   "id": "70707095-5659-4228-9528-0807f2a58b63",
   "metadata": {},
   "outputs": [
    {
     "data": {
      "text/plain": [
       "(tensor([ 0,  1,  2,  3,  4,  5,  6,  7,  8,  9, 10, 11, 12, 13, 14, 15, 16, 17,\n",
       "         18, 19, 20, 21, 22, 23, 24, 25, 26, 27, 28, 29, 30, 31]),\n",
       " tensor([ 5, 13, 13,  1,  0, 15, 12,  9, 22,  9,  1,  0,  1, 22,  1,  0,  9, 19,\n",
       "          1,  2,  5, 12, 12,  1,  0, 19, 15, 16,  8,  9,  1,  0]))"
      ]
     },
     "execution_count": 45,
     "metadata": {},
     "output_type": "execute_result"
    }
   ],
   "source": [
    "torch.arange(32), Y"
   ]
  },
  {
   "cell_type": "code",
   "execution_count": 46,
   "id": "8dfd951f-d629-42fc-b17d-afdcb9fb5c22",
   "metadata": {},
   "outputs": [],
   "source": [
    "g = torch.Generator().manual_seed(2147483647)\n",
    "C = torch.randn((27,2), generator = g)\n",
    "W1 = torch.randn((6,100), generator = g)\n",
    "b1 = torch.randn(100, generator = g)\n",
    "W2 = torch.randn((100,27), generator = g)\n",
    "b2 = torch.randn(27, generator = g)"
   ]
  },
  {
   "cell_type": "code",
   "execution_count": 47,
   "id": "5c5b0e76-fa95-4ccb-8d7b-04863059675c",
   "metadata": {},
   "outputs": [],
   "source": [
    "parameters = [C, W1, b1, W2, b2]"
   ]
  },
  {
   "cell_type": "code",
   "execution_count": 48,
   "id": "fe09262f-2006-444a-90ea-396d84433574",
   "metadata": {},
   "outputs": [
    {
     "data": {
      "text/plain": [
       "3481"
      ]
     },
     "execution_count": 48,
     "metadata": {},
     "output_type": "execute_result"
    }
   ],
   "source": [
    "num_params = sum(p.nelement() for p in parameters)\n",
    "num_params"
   ]
  },
  {
   "cell_type": "code",
   "execution_count": 49,
   "id": "b42a4bac-d5a6-4fb0-a68b-5db1cf221309",
   "metadata": {},
   "outputs": [
    {
     "data": {
      "text/plain": [
       "tensor(17.7697)"
      ]
     },
     "execution_count": 49,
     "metadata": {},
     "output_type": "execute_result"
    }
   ],
   "source": [
    "emb = C[X]\n",
    "h = torch.tanh(emb.view(-1, 6) @ W1 + b1)\n",
    "logits = h @ W2 + b2\n",
    "counts = logits.exp()\n",
    "prob = counts / counts.sum(1, keepdims=True)\n",
    "loss = -prob[torch.arange(32), Y].log().mean()\n",
    "loss"
   ]
  },
  {
   "cell_type": "code",
   "execution_count": 50,
   "id": "e7df2fd9-59c4-4658-b792-32c27462c59e",
   "metadata": {},
   "outputs": [
    {
     "data": {
      "text/plain": [
       "tensor(17.7697)"
      ]
     },
     "execution_count": 50,
     "metadata": {},
     "output_type": "execute_result"
    }
   ],
   "source": [
    "# the previous cell is the same as cross_entropy\n",
    "F.cross_entropy(logits, Y)"
   ]
  },
  {
   "cell_type": "markdown",
   "id": "60dda404-8643-406d-a075-9a5d99cc4cfa",
   "metadata": {},
   "source": [
    "**cross entropy** measures the difference between two probability distributions. is used in classification problems. If $P$ is our target distribution (in this case $Y$) and $Q$ is an approximation of $Q$ (in this case $logits$), the **cross entropy** is computed as follows:\n",
    "$$H(P,Q) = - \\sum_{x \\in X} P(x) \\cdot \\log{Q(x)}$$"
   ]
  },
  {
   "cell_type": "code",
   "execution_count": 51,
   "id": "88a04ba0-5068-46a3-b925-3452a50c2081",
   "metadata": {},
   "outputs": [],
   "source": [
    "for p in parameters:\n",
    "    p.requires_grad = True"
   ]
  },
  {
   "cell_type": "markdown",
   "id": "491e265f-c400-4c75-a550-a2fc0faa5d73",
   "metadata": {},
   "source": [
    "## Training Loop\n",
    "#### Overfitting one batch of 32 examples"
   ]
  },
  {
   "cell_type": "code",
   "execution_count": 54,
   "id": "6acf294f-5286-4807-a3d3-9cd9b826f3ab",
   "metadata": {},
   "outputs": [
    {
     "name": "stdout",
     "output_type": "stream",
     "text": [
      "0.25285276770591736\n"
     ]
    }
   ],
   "source": [
    "for _ in range(1000):\n",
    "    # forward pass\n",
    "    emb = C[X]\n",
    "    h = torch.tanh(emb.view(-1,6) @ W1 + b1)\n",
    "    logits = h @ W2 + b2\n",
    "    loss = F.cross_entropy(logits, Y)\n",
    "\n",
    "    # backward pass\n",
    "    for p in parameters:\n",
    "        p.grad = None\n",
    "    loss.backward()\n",
    "\n",
    "    # update\n",
    "    for p in parameters:\n",
    "        p.data += -0.1 * p.grad\n",
    "\n",
    "print(loss.item())"
   ]
  },
  {
   "cell_type": "markdown",
   "id": "e76b4511-e138-42b7-99d7-5197ca69723b",
   "metadata": {},
   "source": [
    "#### Training on the full data set\n",
    "Random selected minibatches are used to train the model. For each mini batch a gradient is computed and an optimization of the parameters is performed."
   ]
  },
  {
   "cell_type": "code",
   "execution_count": 131,
   "id": "46c00fdc-dd26-4522-ab98-56fb3b02d3aa",
   "metadata": {},
   "outputs": [],
   "source": [
    "g = torch.Generator().manual_seed(2147483647)\n",
    "C = torch.randn((27,2), generator = g)\n",
    "W1 = torch.randn((6,100), generator = g)\n",
    "b1 = torch.randn(100, generator = g)\n",
    "W2 = torch.randn((100,27), generator = g)\n",
    "b2 = torch.randn(27, generator = g)"
   ]
  },
  {
   "cell_type": "code",
   "execution_count": 132,
   "id": "307aa783-80f6-46c8-ac83-a06bea2d8997",
   "metadata": {},
   "outputs": [],
   "source": [
    "parameters = [C, W1, b1, W2, b2]"
   ]
  },
  {
   "cell_type": "code",
   "execution_count": 133,
   "id": "b9ed6ac5-275f-43fa-96e6-f605c8b31c20",
   "metadata": {},
   "outputs": [],
   "source": [
    "for p in parameters:\n",
    "    p.requires_grad = True"
   ]
  },
  {
   "cell_type": "code",
   "execution_count": 134,
   "id": "fe892d8b-1c8c-4e50-8e7f-4c194ef6418c",
   "metadata": {},
   "outputs": [],
   "source": [
    "iterations = 1000"
   ]
  },
  {
   "cell_type": "code",
   "execution_count": 136,
   "id": "f3db5ca1-821a-4e24-8228-c5bd29246547",
   "metadata": {
    "scrolled": true
   },
   "outputs": [],
   "source": [
    "loss_track = []\n",
    "lr_track = []\n",
    "for i in range(iterations):\n",
    "    # getting random mini batches\n",
    "    # 32 indices are randomly generated\n",
    "    ix = torch.randint(0, X.shape[0], (32,))\n",
    "\n",
    "    # forward pass\n",
    "    emb = C[X[ix]]\n",
    "    h = torch.tanh(emb.view(-1, 6) @ W1 + b1)\n",
    "    logits = h @ W2 + b2\n",
    "    loss = F.cross_entropy(logits, Y)\n",
    "\n",
    "    # track\n",
    "    loss_track.append(loss.item())\n",
    "    lr_track.append(lre[i])\n",
    "    # backward pass\n",
    "    for p in parameters:\n",
    "        p.grad = None\n",
    "\n",
    "    # when .backward() is kicked off, the autograd function executes backprop differentiating the computational graph from p.\n",
    "    loss.backward()\n",
    "    \n",
    "    # update\n",
    "    for p in parameters:\n",
    "        p.data += -lrs[i]*p.grad"
   ]
  },
  {
   "cell_type": "markdown",
   "id": "1b6728be-f827-4b10-8c35-49f0549c4dbb",
   "metadata": {},
   "source": [
    "#### Finding a good learning rate \n",
    "The idea is iterating into an exponential increasing list of learning rates and find which ones make the loss more stable"
   ]
  },
  {
   "cell_type": "code",
   "execution_count": 135,
   "id": "f1466e0e-7c91-4724-8e13-8e6c26146ab6",
   "metadata": {},
   "outputs": [],
   "source": [
    "lre = torch.linspace(-3, 0, iterations)\n",
    "lrs = 10**lre"
   ]
  },
  {
   "cell_type": "code",
   "execution_count": 87,
   "id": "d6ff9437-abf3-4d35-baab-093effe82106",
   "metadata": {
    "collapsed": true,
    "jupyter": {
     "outputs_hidden": true
    }
   },
   "outputs": [
    {
     "data": {
      "text/plain": [
       "[6.503838539123535,\n",
       " 4.964483261108398,\n",
       " 6.206967830657959,\n",
       " 5.436611652374268,\n",
       " 4.725887775421143,\n",
       " 5.5195631980896,\n",
       " 5.554574012756348,\n",
       " 5.680169582366943,\n",
       " 5.765488147735596,\n",
       " 4.831064224243164,\n",
       " 4.659779071807861,\n",
       " 5.629796504974365,\n",
       " 5.905553340911865,\n",
       " 5.640501499176025,\n",
       " 5.351497650146484,\n",
       " 4.634459495544434,\n",
       " 4.279050350189209,\n",
       " 5.392859935760498,\n",
       " 5.101237773895264,\n",
       " 5.3582353591918945,\n",
       " 4.626509666442871,\n",
       " 5.122476100921631,\n",
       " 4.894629001617432,\n",
       " 4.659432411193848,\n",
       " 4.572819709777832,\n",
       " 4.863282680511475,\n",
       " 5.063176155090332,\n",
       " 5.054225921630859,\n",
       " 4.430258274078369,\n",
       " 4.260829925537109,\n",
       " 5.007784366607666,\n",
       " 4.622195720672607,\n",
       " 5.229585647583008,\n",
       " 4.156047344207764,\n",
       " 4.614228248596191,\n",
       " 4.64133882522583,\n",
       " 4.067047595977783,\n",
       " 4.505004405975342,\n",
       " 4.804667949676514,\n",
       " 3.838247776031494,\n",
       " 4.708486080169678,\n",
       " 4.491815090179443,\n",
       " 4.319787979125977,\n",
       " 4.832242965698242,\n",
       " 4.793335914611816,\n",
       " 4.113579273223877,\n",
       " 3.7352662086486816,\n",
       " 4.056610584259033,\n",
       " 3.861778736114502,\n",
       " 3.380192279815674,\n",
       " 3.6661736965179443,\n",
       " 4.032435894012451,\n",
       " 4.000614166259766,\n",
       " 2.866518497467041,\n",
       " 2.9557199478149414,\n",
       " 3.796907901763916,\n",
       " 2.9773597717285156,\n",
       " 2.9575674533843994,\n",
       " 3.57611346244812,\n",
       " 3.219204902648926,\n",
       " 3.1946399211883545,\n",
       " 3.5436034202575684,\n",
       " 3.48974871635437,\n",
       " 3.507284641265869,\n",
       " 3.598172187805176,\n",
       " 3.3964438438415527,\n",
       " 2.6223642826080322,\n",
       " 2.9298877716064453,\n",
       " 3.1076126098632812,\n",
       " 2.8801064491271973,\n",
       " 2.9987590312957764,\n",
       " 2.5341763496398926,\n",
       " 2.603466033935547,\n",
       " 2.722705602645874,\n",
       " 2.874182939529419,\n",
       " 2.755845069885254,\n",
       " 2.8751463890075684,\n",
       " 2.340684413909912,\n",
       " 2.9184317588806152,\n",
       " 2.6260592937469482,\n",
       " 2.6654157638549805,\n",
       " 2.842090129852295,\n",
       " 2.9067649841308594,\n",
       " 2.85996150970459,\n",
       " 3.0131309032440186,\n",
       " 2.901477813720703,\n",
       " 2.965451955795288,\n",
       " 2.8478331565856934,\n",
       " 2.8761355876922607,\n",
       " 2.8510844707489014,\n",
       " 3.328374147415161,\n",
       " 3.2759201526641846,\n",
       " 5.5904622077941895,\n",
       " 4.404763698577881,\n",
       " 3.640413284301758,\n",
       " 3.621586561203003,\n",
       " 3.6167664527893066,\n",
       " 4.727471351623535,\n",
       " 5.327454566955566,\n",
       " 6.143088340759277]"
      ]
     },
     "execution_count": 87,
     "metadata": {},
     "output_type": "execute_result"
    }
   ],
   "source": [
    "loss_track"
   ]
  },
  {
   "cell_type": "code",
   "execution_count": 137,
   "id": "e12771cf-c86c-4e33-96b7-0c09ac2974d2",
   "metadata": {},
   "outputs": [
    {
     "data": {
      "text/plain": [
       "[<matplotlib.lines.Line2D at 0x119b03e20>]"
      ]
     },
     "execution_count": 137,
     "metadata": {},
     "output_type": "execute_result"
    },
    {
     "data": {
      "image/png": "[encoded data removed]",
      "text/plain": [
       "<Figure size 640x480 with 1 Axes>"
      ]
     },
     "metadata": {},
     "output_type": "display_data"
    }
   ],
   "source": [
    "plt.plot(lr_track, loss_track)"
   ]
  },
  {
   "cell_type": "code",
   "execution_count": null,
   "id": "647a3c45-a0f1-4fb4-b6c8-ad63abc412e8",
   "metadata": {},
   "outputs": [],
   "source": [
    "# large hidden layer, large embedding, visualizing embeddings"
   ]
  }
 ],
 "metadata": {
  "kernelspec": {
   "display_name": "Python (makemore)",
   "language": "python",
   "name": "makemore"
  },
  "language_info": {
   "codemirror_mode": {
    "name": "ipython",
    "version": 3
   },
   "file_extension": ".py",
   "mimetype": "text/x-python",
   "name": "python",
   "nbconvert_exporter": "python",
   "pygments_lexer": "ipython3",
   "version": "3.9.6"
  }
 },
 "nbformat": 4,
 "nbformat_minor": 5
}

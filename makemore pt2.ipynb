{
 "cells": [
  {
   "cell_type": "markdown",
   "id": "212e131a-0600-43c2-b064-d39e91993800",
   "metadata": {},
   "source": [
    "## Makemore MLP"
   ]
  },
  {
   "cell_type": "code",
   "execution_count": 1,
   "id": "93d2fa5d-c94a-42ce-8d9e-74602a17e8d6",
   "metadata": {},
   "outputs": [],
   "source": [
    "import torch"
   ]
  },
  {
   "cell_type": "code",
   "execution_count": 2,
   "id": "a26fb39e-4e62-4a00-a383-2c5e596b21c8",
   "metadata": {},
   "outputs": [],
   "source": [
    "import torch.nn.functional as F"
   ]
  },
  {
   "cell_type": "markdown",
   "id": "2c042f72-8385-4435-a20e-fd86fe6814f8",
   "metadata": {},
   "source": [
    "### Build vocabulary"
   ]
  },
  {
   "cell_type": "code",
   "execution_count": 3,
   "id": "c10acd47-0c96-48f9-b29f-cc55dbd8b263",
   "metadata": {},
   "outputs": [],
   "source": [
    "words = open('names.txt','r').read().splitlines()"
   ]
  },
  {
   "cell_type": "code",
   "execution_count": 5,
   "id": "d494a964-4739-4288-82ca-df1da46bdbb8",
   "metadata": {},
   "outputs": [
    {
     "name": "stdout",
     "output_type": "stream",
     "text": [
      "{1: 'a', 2: 'b', 3: 'c', 4: 'd', 5: 'e', 6: 'f', 7: 'g', 8: 'h', 9: 'i', 10: 'j', 11: 'k', 12: 'l', 13: 'm', 14: 'n', 15: 'o', 16: 'p', 17: 'q', 18: 'r', 19: 's', 20: 't', 21: 'u', 22: 'v', 23: 'w', 24: 'x', 25: 'y', 26: 'z', 0: '.'}\n"
     ]
    }
   ],
   "source": [
    "chars = sorted(list(set(''.join(words))))\n",
    "stoi = {s:i+1 for i,s in enumerate(chars)}\n",
    "stoi['.'] = 0\n",
    "itos = {i:s for s,i in stoi.items()}\n",
    "print(itos)"
   ]
  },
  {
   "cell_type": "markdown",
   "id": "ec49e1cf-5299-467d-be78-535ae66f789b",
   "metadata": {},
   "source": [
    "### Build dataset"
   ]
  },
  {
   "cell_type": "code",
   "execution_count": 6,
   "id": "47e399ad-ba04-47fc-ac79-5f0290516245",
   "metadata": {},
   "outputs": [
    {
     "name": "stdout",
     "output_type": "stream",
     "text": [
      "emma\n",
      "... ---> e\n",
      "..e ---> m\n",
      ".em ---> m\n",
      "emm ---> a\n",
      "mma ---> .\n",
      "olivia\n",
      "... ---> o\n",
      "..o ---> l\n",
      ".ol ---> i\n",
      "oli ---> v\n",
      "liv ---> i\n",
      "ivi ---> a\n",
      "via ---> .\n",
      "ava\n",
      "... ---> a\n",
      "..a ---> v\n",
      ".av ---> a\n",
      "ava ---> .\n",
      "isabella\n",
      "... ---> i\n",
      "..i ---> s\n",
      ".is ---> a\n",
      "isa ---> b\n",
      "sab ---> e\n",
      "abe ---> l\n",
      "bel ---> l\n",
      "ell ---> a\n",
      "lla ---> .\n",
      "sophia\n",
      "... ---> s\n",
      "..s ---> o\n",
      ".so ---> p\n",
      "sop ---> h\n",
      "oph ---> i\n",
      "phi ---> a\n",
      "hia ---> .\n"
     ]
    }
   ],
   "source": [
    "block_size = 3\n",
    "X, Y = [], []\n",
    "for w in words[:5]:\n",
    "    print(w)\n",
    "    context = [0] * block_size\n",
    "    for ch in w + '.':\n",
    "        ix = stoi[ch]\n",
    "        X.append(context)\n",
    "        Y.append(ix)\n",
    "        print(''.join(itos[i] for i in context), '--->', itos[ix])\n",
    "        context = context[1:] + [ix]\n",
    "\n",
    "X = torch.tensor(X)\n",
    "Y = torch.tensor(Y)\n",
    "        "
   ]
  },
  {
   "cell_type": "code",
   "execution_count": 12,
   "id": "1596cae9-875c-47b7-a6bc-49720ed44efc",
   "metadata": {},
   "outputs": [
    {
     "data": {
      "text/plain": [
       "(torch.Size([32, 3]), torch.int64, torch.Size([32]), torch.int64)"
      ]
     },
     "execution_count": 12,
     "metadata": {},
     "output_type": "execute_result"
    }
   ],
   "source": [
    "X.shape, X.dtype, Y.shape, Y.dtype"
   ]
  },
  {
   "cell_type": "code",
   "execution_count": 9,
   "id": "1f4be9e5-99b8-4ea4-a4a5-bb9412f23da9",
   "metadata": {},
   "outputs": [
    {
     "data": {
      "text/plain": [
       "tensor([1.3102, 0.1169])"
      ]
     },
     "execution_count": 9,
     "metadata": {},
     "output_type": "execute_result"
    }
   ],
   "source": [
    "C = torch.randn([27,2])\n",
    "C[3]"
   ]
  },
  {
   "cell_type": "code",
   "execution_count": 10,
   "id": "2c3cbdf8-290e-41e9-9043-63c809b80c80",
   "metadata": {},
   "outputs": [
    {
     "data": {
      "text/plain": [
       "tensor([1.3102, 0.1169])"
      ]
     },
     "execution_count": 10,
     "metadata": {},
     "output_type": "execute_result"
    }
   ],
   "source": [
    "F.one_hot(torch.tensor(3), num_classes=27).float() @ C"
   ]
  },
  {
   "cell_type": "code",
   "execution_count": 15,
   "id": "55b0ec71-9748-4ced-aa8c-c2b46cf2b1f4",
   "metadata": {},
   "outputs": [
    {
     "data": {
      "text/plain": [
       "tensor(1)"
      ]
     },
     "execution_count": 15,
     "metadata": {},
     "output_type": "execute_result"
    }
   ],
   "source": [
    "# 31th example 3rd character is an \"a\" = tensor(1)\n",
    "X[31][2]"
   ]
  },
  {
   "cell_type": "code",
   "execution_count": 16,
   "id": "e44db4f7-fe0a-47d1-a507-348f80b8d9de",
   "metadata": {},
   "outputs": [
    {
     "data": {
      "text/plain": [
       "torch.Size([32, 3, 2])"
      ]
     },
     "execution_count": 16,
     "metadata": {},
     "output_type": "execute_result"
    }
   ],
   "source": [
    "emb = C[X]\n",
    "# shape is [32,3,2] 32 training examples, of 3 (block size), 2 dimensions (embedding dimesion)\n",
    "emb.shape"
   ]
  },
  {
   "cell_type": "code",
   "execution_count": 18,
   "id": "0f912961-a159-4f01-bb5b-65de73d488d3",
   "metadata": {},
   "outputs": [
    {
     "data": {
      "text/plain": [
       "torch.Size([32, 2])"
      ]
     },
     "execution_count": 18,
     "metadata": {},
     "output_type": "execute_result"
    }
   ],
   "source": [
    "emb[:,0,:].shape"
   ]
  },
  {
   "cell_type": "markdown",
   "id": "f8b38f25-ef90-435d-8f2a-9e6ebb7e0e15",
   "metadata": {},
   "source": [
    "### Weights and biases\n",
    "We need to flatten one dimension to perform the multiplication. The input layer receives a vector of 3 by 2 (block size and embedding size) "
   ]
  },
  {
   "cell_type": "code",
   "execution_count": 23,
   "id": "2cb89234-27c3-4a80-85e2-9b443b3d6061",
   "metadata": {},
   "outputs": [
    {
     "data": {
      "text/plain": [
       "torch.Size([32, 6])"
      ]
     },
     "execution_count": 23,
     "metadata": {},
     "output_type": "execute_result"
    }
   ],
   "source": [
    "torch.cat(torch.unbind(emb,1),1).shape\n",
    "# concatenation is ineffiecient and creates all kinds of memory"
   ]
  },
  {
   "cell_type": "code",
   "execution_count": 24,
   "id": "d896785d-9302-417b-9327-ca88ae885c0a",
   "metadata": {
    "collapsed": true,
    "jupyter": {
     "outputs_hidden": true
    },
    "scrolled": true
   },
   "outputs": [
    {
     "data": {
      "text/plain": [
       "tensor([[-0.9138,  0.8037, -0.9138,  0.8037, -0.9138,  0.8037],\n",
       "        [-0.9138,  0.8037, -0.9138,  0.8037, -0.5068,  0.6986],\n",
       "        [-0.9138,  0.8037, -0.5068,  0.6986,  1.3613, -1.8846],\n",
       "        [-0.5068,  0.6986,  1.3613, -1.8846,  1.3613, -1.8846],\n",
       "        [ 1.3613, -1.8846,  1.3613, -1.8846, -0.7232, -0.5272],\n",
       "        [-0.9138,  0.8037, -0.9138,  0.8037, -0.9138,  0.8037],\n",
       "        [-0.9138,  0.8037, -0.9138,  0.8037,  0.4990, -1.1098],\n",
       "        [-0.9138,  0.8037,  0.4990, -1.1098, -0.0801, -1.0422],\n",
       "        [ 0.4990, -1.1098, -0.0801, -1.0422, -0.4536, -0.6207],\n",
       "        [-0.0801, -1.0422, -0.4536, -0.6207, -2.0167, -0.0185],\n",
       "        [-0.4536, -0.6207, -2.0167, -0.0185, -0.4536, -0.6207],\n",
       "        [-2.0167, -0.0185, -0.4536, -0.6207, -0.7232, -0.5272],\n",
       "        [-0.9138,  0.8037, -0.9138,  0.8037, -0.9138,  0.8037],\n",
       "        [-0.9138,  0.8037, -0.9138,  0.8037, -0.7232, -0.5272],\n",
       "        [-0.9138,  0.8037, -0.7232, -0.5272, -2.0167, -0.0185],\n",
       "        [-0.7232, -0.5272, -2.0167, -0.0185, -0.7232, -0.5272],\n",
       "        [-0.9138,  0.8037, -0.9138,  0.8037, -0.9138,  0.8037],\n",
       "        [-0.9138,  0.8037, -0.9138,  0.8037, -0.4536, -0.6207],\n",
       "        [-0.9138,  0.8037, -0.4536, -0.6207,  1.0056,  0.6524],\n",
       "        [-0.4536, -0.6207,  1.0056,  0.6524, -0.7232, -0.5272],\n",
       "        [ 1.0056,  0.6524, -0.7232, -0.5272,  0.0335,  0.1103],\n",
       "        [-0.7232, -0.5272,  0.0335,  0.1103, -0.5068,  0.6986],\n",
       "        [ 0.0335,  0.1103, -0.5068,  0.6986, -0.0801, -1.0422],\n",
       "        [-0.5068,  0.6986, -0.0801, -1.0422, -0.0801, -1.0422],\n",
       "        [-0.0801, -1.0422, -0.0801, -1.0422, -0.7232, -0.5272],\n",
       "        [-0.9138,  0.8037, -0.9138,  0.8037, -0.9138,  0.8037],\n",
       "        [-0.9138,  0.8037, -0.9138,  0.8037,  1.0056,  0.6524],\n",
       "        [-0.9138,  0.8037,  1.0056,  0.6524,  0.4990, -1.1098],\n",
       "        [ 1.0056,  0.6524,  0.4990, -1.1098, -0.9005,  0.5277],\n",
       "        [ 0.4990, -1.1098, -0.9005,  0.5277,  1.2518,  0.9067],\n",
       "        [-0.9005,  0.5277,  1.2518,  0.9067, -0.4536, -0.6207],\n",
       "        [ 1.2518,  0.9067, -0.4536, -0.6207, -0.7232, -0.5272]])"
      ]
     },
     "execution_count": 24,
     "metadata": {},
     "output_type": "execute_result"
    }
   ],
   "source": [
    "emb.view(32,6)"
   ]
  },
  {
   "cell_type": "code",
   "execution_count": 47,
   "id": "c865aac8-a8aa-4cbe-85fd-e2aa44a0d67c",
   "metadata": {},
   "outputs": [],
   "source": [
    "# input size and neurons\n",
    "\n",
    "W1 = torch.randn((6,100))\n",
    "b1 = torch.randn(100)"
   ]
  },
  {
   "cell_type": "code",
   "execution_count": 48,
   "id": "041ef04d-f214-49c9-8d55-ac74cfb02cb1",
   "metadata": {},
   "outputs": [],
   "source": [
    "h = emb.view(emb.shape[0], 6) @ W1 + b1\n",
    "# or emb.view(-1, 6) with \"-1\" pytorch will infer what the other dimension should be to sum up to the correct one"
   ]
  },
  {
   "cell_type": "code",
   "execution_count": 49,
   "id": "59ce5b72-205f-449b-906d-d6b4167b11ee",
   "metadata": {},
   "outputs": [
    {
     "data": {
      "text/plain": [
       "(torch.Size([32, 100]), torch.Size([100]))"
      ]
     },
     "execution_count": 49,
     "metadata": {},
     "output_type": "execute_result"
    }
   ],
   "source": [
    "# two broadcastable shapes:\n",
    "(emb.view(emb.shape[0], 6) @ W1).shape, b1.shape"
   ]
  },
  {
   "cell_type": "code",
   "execution_count": 50,
   "id": "b74f53b7-0eff-40f2-a1cb-00b8e116399a",
   "metadata": {},
   "outputs": [],
   "source": [
    "h = torch.tanh(emb.view(-1,6) @ W1 + b1)"
   ]
  },
  {
   "cell_type": "code",
   "execution_count": 51,
   "id": "a462bead-3e6b-4e01-9be0-bf746779e347",
   "metadata": {
    "scrolled": true
   },
   "outputs": [
    {
     "data": {
      "text/plain": [
       "torch.Size([32, 100])"
      ]
     },
     "execution_count": 51,
     "metadata": {},
     "output_type": "execute_result"
    }
   ],
   "source": [
    "h.shape"
   ]
  },
  {
   "cell_type": "code",
   "execution_count": 54,
   "id": "546dbed7-1c59-4fb4-8894-f007c830014d",
   "metadata": {},
   "outputs": [],
   "source": [
    "# 27 characters are output\n",
    "W2 = torch.randn((100, 27))\n",
    "b2 = torch.randn(27)"
   ]
  },
  {
   "cell_type": "code",
   "execution_count": 55,
   "id": "06808f31-7af9-473e-bdfe-0c5acea013e3",
   "metadata": {},
   "outputs": [],
   "source": [
    "logits = h @ W2 + b2"
   ]
  },
  {
   "cell_type": "code",
   "execution_count": 56,
   "id": "94693272-28f4-45ed-b4ff-73bb1b381f0f",
   "metadata": {},
   "outputs": [
    {
     "data": {
      "text/plain": [
       "torch.Size([32, 27])"
      ]
     },
     "execution_count": 56,
     "metadata": {},
     "output_type": "execute_result"
    }
   ],
   "source": [
    "logits.shape"
   ]
  },
  {
   "cell_type": "code",
   "execution_count": 57,
   "id": "3207f05b-2ba5-4c08-b270-70b400802ace",
   "metadata": {},
   "outputs": [],
   "source": [
    "counts = logits.exp()"
   ]
  },
  {
   "cell_type": "code",
   "execution_count": 58,
   "id": "da01ac95-0d6f-43c2-91ed-89bb77547482",
   "metadata": {},
   "outputs": [],
   "source": [
    "# counts are normalized so they sum to 1\n",
    "prob = counts / counts.sum(1, keepdims = True)"
   ]
  },
  {
   "cell_type": "code",
   "execution_count": 59,
   "id": "a10ad7a0-580d-4e5c-8a11-e2eac6f41f5d",
   "metadata": {},
   "outputs": [
    {
     "data": {
      "text/plain": [
       "tensor(1.)"
      ]
     },
     "execution_count": 59,
     "metadata": {},
     "output_type": "execute_result"
    }
   ],
   "source": [
    "prob[0].sum()"
   ]
  },
  {
   "cell_type": "code",
   "execution_count": 60,
   "id": "bf2d37cf-6db2-4469-b782-586f081d7378",
   "metadata": {},
   "outputs": [
    {
     "data": {
      "text/plain": [
       "tensor([2.6793e-10, 9.9151e-01, 1.9929e-12, 1.0000e+00, 8.3869e-17, 8.1524e-06,\n",
       "        2.2827e-09, 4.9025e-15, 1.9119e-07, 2.5365e-06, 5.1905e-02, 1.1000e-11,\n",
       "        2.1639e-09, 6.6223e-05, 5.0690e-06, 3.0231e-14, 2.0031e-03, 1.9185e-09,\n",
       "        4.0100e-03, 5.9459e-09, 1.7484e-13, 2.0088e-14, 3.1048e-08, 9.5746e-01,\n",
       "        2.7550e-17, 6.4165e-06, 2.6006e-01, 2.7596e-13, 4.0356e-12, 6.0943e-01,\n",
       "        1.3959e-05, 1.1939e-13])"
      ]
     },
     "execution_count": 60,
     "metadata": {},
     "output_type": "execute_result"
    }
   ],
   "source": [
    "# actual probabilities for the correct output character (for now without training)\n",
    "# torch.arange(32), Y this means \"example i, character Y (the correct character)\"\n",
    "prob[torch.arange(32), Y]"
   ]
  },
  {
   "cell_type": "code",
   "execution_count": 61,
   "id": "934d8c07-d171-4398-b04a-9ecddf7471b0",
   "metadata": {},
   "outputs": [
    {
     "data": {
      "text/plain": [
       "torch.Size([32, 27])"
      ]
     },
     "execution_count": 61,
     "metadata": {},
     "output_type": "execute_result"
    }
   ],
   "source": [
    "prob.shape"
   ]
  },
  {
   "cell_type": "code",
   "execution_count": 62,
   "id": "70707095-5659-4228-9528-0807f2a58b63",
   "metadata": {},
   "outputs": [
    {
     "data": {
      "text/plain": [
       "(tensor([ 0,  1,  2,  3,  4,  5,  6,  7,  8,  9, 10, 11, 12, 13, 14, 15, 16, 17,\n",
       "         18, 19, 20, 21, 22, 23, 24, 25, 26, 27, 28, 29, 30, 31]),\n",
       " tensor([ 5, 13, 13,  1,  0, 15, 12,  9, 22,  9,  1,  0,  1, 22,  1,  0,  9, 19,\n",
       "          1,  2,  5, 12, 12,  1,  0, 19, 15, 16,  8,  9,  1,  0]))"
      ]
     },
     "execution_count": 62,
     "metadata": {},
     "output_type": "execute_result"
    }
   ],
   "source": [
    "torch.arange(32), Y"
   ]
  },
  {
   "cell_type": "code",
   "execution_count": null,
   "id": "5c5b0e76-fa95-4ccb-8d7b-04863059675c",
   "metadata": {},
   "outputs": [],
   "source": []
  }
 ],
 "metadata": {
  "kernelspec": {
   "display_name": "Python (makemore)",
   "language": "python",
   "name": "makemore"
  },
  "language_info": {
   "codemirror_mode": {
    "name": "ipython",
    "version": 3
   },
   "file_extension": ".py",
   "mimetype": "text/x-python",
   "name": "python",
   "nbconvert_exporter": "python",
   "pygments_lexer": "ipython3",
   "version": "3.9.6"
  }
 },
 "nbformat": 4,
 "nbformat_minor": 5
}

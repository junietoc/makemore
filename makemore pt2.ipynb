{
 "cells": [
  {
   "cell_type": "markdown",
   "id": "212e131a-0600-43c2-b064-d39e91993800",
   "metadata": {},
   "source": [
    "## Makemore MLP"
   ]
  },
  {
   "cell_type": "code",
   "execution_count": 1,
   "id": "93d2fa5d-c94a-42ce-8d9e-74602a17e8d6",
   "metadata": {},
   "outputs": [],
   "source": [
    "import torch"
   ]
  },
  {
   "cell_type": "code",
   "execution_count": 2,
   "id": "a26fb39e-4e62-4a00-a383-2c5e596b21c8",
   "metadata": {},
   "outputs": [],
   "source": [
    "import torch.nn.functional as F"
   ]
  },
  {
   "cell_type": "code",
   "execution_count": 3,
   "id": "6d89ca70-b7bc-450e-83d0-5c4e9293a1e8",
   "metadata": {},
   "outputs": [],
   "source": [
    "from matplotlib import pyplot as plt"
   ]
  },
  {
   "cell_type": "markdown",
   "id": "2c042f72-8385-4435-a20e-fd86fe6814f8",
   "metadata": {},
   "source": [
    "### Build vocabulary"
   ]
  },
  {
   "cell_type": "code",
   "execution_count": 4,
   "id": "c10acd47-0c96-48f9-b29f-cc55dbd8b263",
   "metadata": {},
   "outputs": [],
   "source": [
    "words = open('names.txt','r').read().splitlines()"
   ]
  },
  {
   "cell_type": "code",
   "execution_count": 5,
   "id": "d494a964-4739-4288-82ca-df1da46bdbb8",
   "metadata": {},
   "outputs": [
    {
     "name": "stdout",
     "output_type": "stream",
     "text": [
      "{1: 'a', 2: 'b', 3: 'c', 4: 'd', 5: 'e', 6: 'f', 7: 'g', 8: 'h', 9: 'i', 10: 'j', 11: 'k', 12: 'l', 13: 'm', 14: 'n', 15: 'o', 16: 'p', 17: 'q', 18: 'r', 19: 's', 20: 't', 21: 'u', 22: 'v', 23: 'w', 24: 'x', 25: 'y', 26: 'z', 0: '.'}\n"
     ]
    }
   ],
   "source": [
    "chars = sorted(list(set(''.join(words))))\n",
    "stoi = {s:i+1 for i,s in enumerate(chars)}\n",
    "stoi['.'] = 0\n",
    "itos = {i:s for s,i in stoi.items()}\n",
    "print(itos)"
   ]
  },
  {
   "cell_type": "markdown",
   "id": "ec49e1cf-5299-467d-be78-535ae66f789b",
   "metadata": {},
   "source": [
    "### Build dataset"
   ]
  },
  {
   "cell_type": "code",
   "execution_count": 6,
   "id": "47e399ad-ba04-47fc-ac79-5f0290516245",
   "metadata": {},
   "outputs": [
    {
     "name": "stdout",
     "output_type": "stream",
     "text": [
      "emma\n",
      "... ---> e\n",
      "..e ---> m\n",
      ".em ---> m\n",
      "emm ---> a\n",
      "mma ---> .\n",
      "olivia\n",
      "... ---> o\n",
      "..o ---> l\n",
      ".ol ---> i\n",
      "oli ---> v\n",
      "liv ---> i\n",
      "ivi ---> a\n",
      "via ---> .\n",
      "ava\n",
      "... ---> a\n",
      "..a ---> v\n",
      ".av ---> a\n",
      "ava ---> .\n",
      "isabella\n",
      "... ---> i\n",
      "..i ---> s\n",
      ".is ---> a\n",
      "isa ---> b\n",
      "sab ---> e\n",
      "abe ---> l\n",
      "bel ---> l\n",
      "ell ---> a\n",
      "lla ---> .\n",
      "sophia\n",
      "... ---> s\n",
      "..s ---> o\n",
      ".so ---> p\n",
      "sop ---> h\n",
      "oph ---> i\n",
      "phi ---> a\n",
      "hia ---> .\n"
     ]
    }
   ],
   "source": [
    "block_size = 3\n",
    "X, Y = [], []\n",
    "for w in words[:5]:\n",
    "    print(w)\n",
    "    context = [0] * block_size\n",
    "    for ch in w + '.':\n",
    "        ix = stoi[ch]\n",
    "        X.append(context)\n",
    "        Y.append(ix)\n",
    "        print(''.join(itos[i] for i in context), '--->', itos[ix])\n",
    "        context = context[1:] + [ix]\n",
    "\n",
    "X = torch.tensor(X)\n",
    "Y = torch.tensor(Y)\n",
    "        "
   ]
  },
  {
   "cell_type": "code",
   "execution_count": 7,
   "id": "1596cae9-875c-47b7-a6bc-49720ed44efc",
   "metadata": {},
   "outputs": [
    {
     "data": {
      "text/plain": [
       "(torch.Size([32, 3]), torch.int64, torch.Size([32]), torch.int64)"
      ]
     },
     "execution_count": 7,
     "metadata": {},
     "output_type": "execute_result"
    }
   ],
   "source": [
    "X.shape, X.dtype, Y.shape, Y.dtype"
   ]
  },
  {
   "cell_type": "code",
   "execution_count": 8,
   "id": "1f4be9e5-99b8-4ea4-a4a5-bb9412f23da9",
   "metadata": {},
   "outputs": [
    {
     "data": {
      "text/plain": [
       "tensor([0.5505, 0.7114])"
      ]
     },
     "execution_count": 8,
     "metadata": {},
     "output_type": "execute_result"
    }
   ],
   "source": [
    "C = torch.randn([27,2])\n",
    "C[3]"
   ]
  },
  {
   "cell_type": "code",
   "execution_count": 9,
   "id": "2c3cbdf8-290e-41e9-9043-63c809b80c80",
   "metadata": {},
   "outputs": [
    {
     "data": {
      "text/plain": [
       "tensor([0.5505, 0.7114])"
      ]
     },
     "execution_count": 9,
     "metadata": {},
     "output_type": "execute_result"
    }
   ],
   "source": [
    "F.one_hot(torch.tensor(3), num_classes=27).float() @ C"
   ]
  },
  {
   "cell_type": "code",
   "execution_count": 10,
   "id": "55b0ec71-9748-4ced-aa8c-c2b46cf2b1f4",
   "metadata": {},
   "outputs": [
    {
     "data": {
      "text/plain": [
       "tensor(1)"
      ]
     },
     "execution_count": 10,
     "metadata": {},
     "output_type": "execute_result"
    }
   ],
   "source": [
    "# 31th example 3rd character is an \"a\" = tensor(1)\n",
    "X[31][2]"
   ]
  },
  {
   "cell_type": "code",
   "execution_count": 11,
   "id": "e44db4f7-fe0a-47d1-a507-348f80b8d9de",
   "metadata": {},
   "outputs": [
    {
     "data": {
      "text/plain": [
       "torch.Size([32, 3, 2])"
      ]
     },
     "execution_count": 11,
     "metadata": {},
     "output_type": "execute_result"
    }
   ],
   "source": [
    "emb = C[X]\n",
    "# shape is [32,3,2] 32 training examples, of 3 (block size), 2 dimensions (embedding dimesion)\n",
    "emb.shape"
   ]
  },
  {
   "cell_type": "code",
   "execution_count": 12,
   "id": "0f912961-a159-4f01-bb5b-65de73d488d3",
   "metadata": {},
   "outputs": [
    {
     "data": {
      "text/plain": [
       "torch.Size([32, 2])"
      ]
     },
     "execution_count": 12,
     "metadata": {},
     "output_type": "execute_result"
    }
   ],
   "source": [
    "emb[:,0,:].shape"
   ]
  },
  {
   "cell_type": "markdown",
   "id": "f8b38f25-ef90-435d-8f2a-9e6ebb7e0e15",
   "metadata": {},
   "source": [
    "### Weights and biases\n",
    "We need to flatten one dimension to perform the multiplication. The input layer receives a vector of 3 by 2 (block size and embedding size) "
   ]
  },
  {
   "cell_type": "code",
   "execution_count": 13,
   "id": "2cb89234-27c3-4a80-85e2-9b443b3d6061",
   "metadata": {},
   "outputs": [
    {
     "data": {
      "text/plain": [
       "torch.Size([32, 6])"
      ]
     },
     "execution_count": 13,
     "metadata": {},
     "output_type": "execute_result"
    }
   ],
   "source": [
    "torch.cat(torch.unbind(emb,1),1).shape\n",
    "# concatenation is ineffiecient and creates all kinds of memory"
   ]
  },
  {
   "cell_type": "code",
   "execution_count": 14,
   "id": "d896785d-9302-417b-9327-ca88ae885c0a",
   "metadata": {
    "scrolled": true
   },
   "outputs": [
    {
     "data": {
      "text/plain": [
       "tensor([[ 1.0735, -1.5263,  1.0735, -1.5263,  1.0735, -1.5263],\n",
       "        [ 1.0735, -1.5263,  1.0735, -1.5263, -1.7757, -0.4388],\n",
       "        [ 1.0735, -1.5263, -1.7757, -0.4388,  0.6716,  1.6750],\n",
       "        [-1.7757, -0.4388,  0.6716,  1.6750,  0.6716,  1.6750],\n",
       "        [ 0.6716,  1.6750,  0.6716,  1.6750, -0.9014,  0.3808],\n",
       "        [ 1.0735, -1.5263,  1.0735, -1.5263,  1.0735, -1.5263],\n",
       "        [ 1.0735, -1.5263,  1.0735, -1.5263, -1.3452, -1.6329],\n",
       "        [ 1.0735, -1.5263, -1.3452, -1.6329, -0.2315,  1.2540],\n",
       "        [-1.3452, -1.6329, -0.2315,  1.2540,  0.3876, -1.2364],\n",
       "        [-0.2315,  1.2540,  0.3876, -1.2364,  0.5246, -0.2191],\n",
       "        [ 0.3876, -1.2364,  0.5246, -0.2191,  0.3876, -1.2364],\n",
       "        [ 0.5246, -0.2191,  0.3876, -1.2364, -0.9014,  0.3808],\n",
       "        [ 1.0735, -1.5263,  1.0735, -1.5263,  1.0735, -1.5263],\n",
       "        [ 1.0735, -1.5263,  1.0735, -1.5263, -0.9014,  0.3808],\n",
       "        [ 1.0735, -1.5263, -0.9014,  0.3808,  0.5246, -0.2191],\n",
       "        [-0.9014,  0.3808,  0.5246, -0.2191, -0.9014,  0.3808],\n",
       "        [ 1.0735, -1.5263,  1.0735, -1.5263,  1.0735, -1.5263],\n",
       "        [ 1.0735, -1.5263,  1.0735, -1.5263,  0.3876, -1.2364],\n",
       "        [ 1.0735, -1.5263,  0.3876, -1.2364, -1.9767, -0.0809],\n",
       "        [ 0.3876, -1.2364, -1.9767, -0.0809, -0.9014,  0.3808],\n",
       "        [-1.9767, -0.0809, -0.9014,  0.3808,  0.4286, -0.2424],\n",
       "        [-0.9014,  0.3808,  0.4286, -0.2424, -1.7757, -0.4388],\n",
       "        [ 0.4286, -0.2424, -1.7757, -0.4388, -0.2315,  1.2540],\n",
       "        [-1.7757, -0.4388, -0.2315,  1.2540, -0.2315,  1.2540],\n",
       "        [-0.2315,  1.2540, -0.2315,  1.2540, -0.9014,  0.3808],\n",
       "        [ 1.0735, -1.5263,  1.0735, -1.5263,  1.0735, -1.5263],\n",
       "        [ 1.0735, -1.5263,  1.0735, -1.5263, -1.9767, -0.0809],\n",
       "        [ 1.0735, -1.5263, -1.9767, -0.0809, -1.3452, -1.6329],\n",
       "        [-1.9767, -0.0809, -1.3452, -1.6329, -1.1420,  0.0257],\n",
       "        [-1.3452, -1.6329, -1.1420,  0.0257, -0.6749,  1.3086],\n",
       "        [-1.1420,  0.0257, -0.6749,  1.3086,  0.3876, -1.2364],\n",
       "        [-0.6749,  1.3086,  0.3876, -1.2364, -0.9014,  0.3808]])"
      ]
     },
     "execution_count": 14,
     "metadata": {},
     "output_type": "execute_result"
    }
   ],
   "source": [
    "emb.view(32,6)"
   ]
  },
  {
   "cell_type": "code",
   "execution_count": 15,
   "id": "c865aac8-a8aa-4cbe-85fd-e2aa44a0d67c",
   "metadata": {},
   "outputs": [],
   "source": [
    "# input size and neurons\n",
    "\n",
    "W1 = torch.randn((6,100))\n",
    "b1 = torch.randn(100)"
   ]
  },
  {
   "cell_type": "code",
   "execution_count": 16,
   "id": "041ef04d-f214-49c9-8d55-ac74cfb02cb1",
   "metadata": {},
   "outputs": [],
   "source": [
    "h = emb.view(emb.shape[0], 6) @ W1 + b1\n",
    "# or emb.view(-1, 6) with \"-1\" pytorch will infer what the other dimension should be to sum up to the correct one"
   ]
  },
  {
   "cell_type": "code",
   "execution_count": 17,
   "id": "59ce5b72-205f-449b-906d-d6b4167b11ee",
   "metadata": {},
   "outputs": [
    {
     "data": {
      "text/plain": [
       "(torch.Size([32, 100]), torch.Size([100]))"
      ]
     },
     "execution_count": 17,
     "metadata": {},
     "output_type": "execute_result"
    }
   ],
   "source": [
    "# two broadcastable shapes:\n",
    "(emb.view(emb.shape[0], 6) @ W1).shape, b1.shape"
   ]
  },
  {
   "cell_type": "code",
   "execution_count": 18,
   "id": "b74f53b7-0eff-40f2-a1cb-00b8e116399a",
   "metadata": {},
   "outputs": [],
   "source": [
    "h = torch.tanh(emb.view(-1,6) @ W1 + b1)"
   ]
  },
  {
   "cell_type": "code",
   "execution_count": 19,
   "id": "a462bead-3e6b-4e01-9be0-bf746779e347",
   "metadata": {
    "scrolled": true
   },
   "outputs": [
    {
     "data": {
      "text/plain": [
       "torch.Size([32, 100])"
      ]
     },
     "execution_count": 19,
     "metadata": {},
     "output_type": "execute_result"
    }
   ],
   "source": [
    "h.shape"
   ]
  },
  {
   "cell_type": "code",
   "execution_count": 20,
   "id": "546dbed7-1c59-4fb4-8894-f007c830014d",
   "metadata": {},
   "outputs": [],
   "source": [
    "# 27 characters are output\n",
    "W2 = torch.randn((100, 27))\n",
    "b2 = torch.randn(27)"
   ]
  },
  {
   "cell_type": "code",
   "execution_count": 21,
   "id": "06808f31-7af9-473e-bdfe-0c5acea013e3",
   "metadata": {},
   "outputs": [],
   "source": [
    "logits = h @ W2 + b2"
   ]
  },
  {
   "cell_type": "code",
   "execution_count": 22,
   "id": "03467a8a-7d0b-4025-b05f-984581424808",
   "metadata": {},
   "outputs": [
    {
     "data": {
      "text/plain": [
       "torch.Size([32, 27])"
      ]
     },
     "execution_count": 22,
     "metadata": {},
     "output_type": "execute_result"
    }
   ],
   "source": [
    "logits.shape"
   ]
  },
  {
   "cell_type": "code",
   "execution_count": 23,
   "id": "94693272-28f4-45ed-b4ff-73bb1b381f0f",
   "metadata": {},
   "outputs": [
    {
     "data": {
      "text/plain": [
       "torch.Size([32, 27])"
      ]
     },
     "execution_count": 23,
     "metadata": {},
     "output_type": "execute_result"
    }
   ],
   "source": [
    "logits.shape"
   ]
  },
  {
   "cell_type": "code",
   "execution_count": 24,
   "id": "3207f05b-2ba5-4c08-b270-70b400802ace",
   "metadata": {},
   "outputs": [],
   "source": [
    "counts = logits.exp()"
   ]
  },
  {
   "cell_type": "code",
   "execution_count": 25,
   "id": "2cc9c470-aea2-42ed-b83b-03a59208511b",
   "metadata": {},
   "outputs": [
    {
     "data": {
      "text/plain": [
       "tensor(9.4884e+15)"
      ]
     },
     "execution_count": 25,
     "metadata": {},
     "output_type": "execute_result"
    }
   ],
   "source": [
    "counts.max()"
   ]
  },
  {
   "cell_type": "code",
   "execution_count": 26,
   "id": "da01ac95-0d6f-43c2-91ed-89bb77547482",
   "metadata": {},
   "outputs": [],
   "source": [
    "# counts are normalized so they sum to 1\n",
    "prob = counts / counts.sum(1, keepdims = True)"
   ]
  },
  {
   "cell_type": "code",
   "execution_count": 27,
   "id": "a10ad7a0-580d-4e5c-8a11-e2eac6f41f5d",
   "metadata": {},
   "outputs": [
    {
     "data": {
      "text/plain": [
       "tensor(1.0000)"
      ]
     },
     "execution_count": 27,
     "metadata": {},
     "output_type": "execute_result"
    }
   ],
   "source": [
    "prob[0].sum()"
   ]
  },
  {
   "cell_type": "code",
   "execution_count": 28,
   "id": "bf2d37cf-6db2-4469-b782-586f081d7378",
   "metadata": {},
   "outputs": [
    {
     "data": {
      "text/plain": [
       "tensor([5.0785e-01, 6.6423e-13, 4.1730e-16, 4.5848e-11, 8.6571e-08, 1.1483e-10,\n",
       "        8.0714e-10, 5.6594e-18, 1.6788e-11, 9.9371e-01, 1.6359e-13, 4.1197e-16,\n",
       "        1.0153e-14, 5.5143e-17, 1.4599e-11, 2.6594e-12, 2.6499e-05, 4.9500e-13,\n",
       "        1.4864e-23, 7.8471e-18, 3.3116e-01, 1.0642e-12, 8.7261e-01, 1.1315e-07,\n",
       "        1.0320e-05, 1.5032e-11, 2.0714e-17, 1.9036e-10, 3.1265e-14, 4.9128e-19,\n",
       "        1.5601e-05, 1.2884e-14])"
      ]
     },
     "execution_count": 28,
     "metadata": {},
     "output_type": "execute_result"
    }
   ],
   "source": [
    "# actual probabilities for the correct output character (for now without training)\n",
    "# torch.arange(32), Y this means \"example i, character Y (the correct character)\"\n",
    "prob[torch.arange(32), Y]"
   ]
  },
  {
   "cell_type": "code",
   "execution_count": 29,
   "id": "934d8c07-d171-4398-b04a-9ecddf7471b0",
   "metadata": {},
   "outputs": [
    {
     "data": {
      "text/plain": [
       "torch.Size([32, 27])"
      ]
     },
     "execution_count": 29,
     "metadata": {},
     "output_type": "execute_result"
    }
   ],
   "source": [
    "prob.shape"
   ]
  },
  {
   "cell_type": "code",
   "execution_count": 30,
   "id": "70707095-5659-4228-9528-0807f2a58b63",
   "metadata": {},
   "outputs": [
    {
     "data": {
      "text/plain": [
       "(tensor([ 0,  1,  2,  3,  4,  5,  6,  7,  8,  9, 10, 11, 12, 13, 14, 15, 16, 17,\n",
       "         18, 19, 20, 21, 22, 23, 24, 25, 26, 27, 28, 29, 30, 31]),\n",
       " tensor([ 5, 13, 13,  1,  0, 15, 12,  9, 22,  9,  1,  0,  1, 22,  1,  0,  9, 19,\n",
       "          1,  2,  5, 12, 12,  1,  0, 19, 15, 16,  8,  9,  1,  0]))"
      ]
     },
     "execution_count": 30,
     "metadata": {},
     "output_type": "execute_result"
    }
   ],
   "source": [
    "torch.arange(32), Y"
   ]
  },
  {
   "cell_type": "code",
   "execution_count": 31,
   "id": "8dfd951f-d629-42fc-b17d-afdcb9fb5c22",
   "metadata": {},
   "outputs": [],
   "source": [
    "g = torch.Generator().manual_seed(2147483647)\n",
    "C = torch.randn((27,2), generator = g)\n",
    "W1 = torch.randn((6,100), generator = g)\n",
    "b1 = torch.randn(100, generator = g)\n",
    "W2 = torch.randn((100,27), generator = g)\n",
    "b2 = torch.randn(27, generator = g)"
   ]
  },
  {
   "cell_type": "code",
   "execution_count": 32,
   "id": "5c5b0e76-fa95-4ccb-8d7b-04863059675c",
   "metadata": {},
   "outputs": [],
   "source": [
    "parameters = [C, W1, b1, W2, b2]"
   ]
  },
  {
   "cell_type": "code",
   "execution_count": 33,
   "id": "fe09262f-2006-444a-90ea-396d84433574",
   "metadata": {},
   "outputs": [
    {
     "data": {
      "text/plain": [
       "3481"
      ]
     },
     "execution_count": 33,
     "metadata": {},
     "output_type": "execute_result"
    }
   ],
   "source": [
    "num_params = sum(p.nelement() for p in parameters)\n",
    "num_params"
   ]
  },
  {
   "cell_type": "code",
   "execution_count": 34,
   "id": "b42a4bac-d5a6-4fb0-a68b-5db1cf221309",
   "metadata": {},
   "outputs": [
    {
     "data": {
      "text/plain": [
       "tensor(17.7697)"
      ]
     },
     "execution_count": 34,
     "metadata": {},
     "output_type": "execute_result"
    }
   ],
   "source": [
    "emb = C[X]\n",
    "h = torch.tanh(emb.view(-1, 6) @ W1 + b1)\n",
    "logits = h @ W2 + b2\n",
    "counts = logits.exp()\n",
    "prob = counts / counts.sum(1, keepdims=True)\n",
    "loss = -prob[torch.arange(32), Y].log().mean()\n",
    "loss"
   ]
  },
  {
   "cell_type": "code",
   "execution_count": 35,
   "id": "e7df2fd9-59c4-4658-b792-32c27462c59e",
   "metadata": {},
   "outputs": [
    {
     "data": {
      "text/plain": [
       "tensor(17.7697)"
      ]
     },
     "execution_count": 35,
     "metadata": {},
     "output_type": "execute_result"
    }
   ],
   "source": [
    "# the previous cell is the same as cross_entropy\n",
    "F.cross_entropy(logits, Y)"
   ]
  },
  {
   "cell_type": "markdown",
   "id": "60dda404-8643-406d-a075-9a5d99cc4cfa",
   "metadata": {},
   "source": [
    "**cross entropy** measures the difference between two probability distributions. is used in classification problems. If $P$ is our target distribution (in this case $Y$) and $Q$ is an approximation of $Q$ (in this case $logits$), the **cross entropy** is computed as follows:\n",
    "$$H(P,Q) = - \\sum_{x \\in X} P(x) \\cdot \\log{Q(x)}$$"
   ]
  },
  {
   "cell_type": "code",
   "execution_count": 36,
   "id": "88a04ba0-5068-46a3-b925-3452a50c2081",
   "metadata": {},
   "outputs": [],
   "source": [
    "for p in parameters:\n",
    "    p.requires_grad = True"
   ]
  },
  {
   "cell_type": "markdown",
   "id": "491e265f-c400-4c75-a550-a2fc0faa5d73",
   "metadata": {},
   "source": [
    "## Training Loop\n",
    "#### Overfitting one batch of 32 examples"
   ]
  },
  {
   "cell_type": "code",
   "execution_count": 37,
   "id": "6acf294f-5286-4807-a3d3-9cd9b826f3ab",
   "metadata": {},
   "outputs": [
    {
     "name": "stdout",
     "output_type": "stream",
     "text": [
      "0.2561309337615967\n"
     ]
    }
   ],
   "source": [
    "for _ in range(1000):\n",
    "    # forward pass\n",
    "    emb = C[X]\n",
    "    h = torch.tanh(emb.view(-1,6) @ W1 + b1)\n",
    "    logits = h @ W2 + b2\n",
    "    loss = F.cross_entropy(logits, Y)\n",
    "\n",
    "    # backward pass\n",
    "    for p in parameters:\n",
    "        p.grad = None\n",
    "    loss.backward()\n",
    "\n",
    "    # update\n",
    "    for p in parameters:\n",
    "        p.data += -0.1 * p.grad\n",
    "\n",
    "print(loss.item())"
   ]
  },
  {
   "cell_type": "markdown",
   "id": "e76b4511-e138-42b7-99d7-5197ca69723b",
   "metadata": {},
   "source": [
    "#### Training on the full data set\n",
    "Random selected minibatches are used to train the model. For each mini batch a gradient is computed and an optimization of the parameters is performed."
   ]
  },
  {
   "cell_type": "code",
   "execution_count": 38,
   "id": "46c00fdc-dd26-4522-ab98-56fb3b02d3aa",
   "metadata": {},
   "outputs": [],
   "source": [
    "g = torch.Generator().manual_seed(2147483647)\n",
    "C = torch.randn((27,2), generator = g)\n",
    "W1 = torch.randn((6,100), generator = g)\n",
    "b1 = torch.randn(100, generator = g)\n",
    "W2 = torch.randn((100,27), generator = g)\n",
    "b2 = torch.randn(27, generator = g)"
   ]
  },
  {
   "cell_type": "code",
   "execution_count": 39,
   "id": "307aa783-80f6-46c8-ac83-a06bea2d8997",
   "metadata": {},
   "outputs": [],
   "source": [
    "parameters = [C, W1, b1, W2, b2]"
   ]
  },
  {
   "cell_type": "code",
   "execution_count": 40,
   "id": "b9ed6ac5-275f-43fa-96e6-f605c8b31c20",
   "metadata": {},
   "outputs": [],
   "source": [
    "for p in parameters:\n",
    "    p.requires_grad = True"
   ]
  },
  {
   "cell_type": "code",
   "execution_count": 41,
   "id": "fe892d8b-1c8c-4e50-8e7f-4c194ef6418c",
   "metadata": {},
   "outputs": [],
   "source": [
    "iterations = 1000"
   ]
  },
  {
   "cell_type": "code",
   "execution_count": 76,
   "id": "f3db5ca1-821a-4e24-8228-c5bd29246547",
   "metadata": {
    "scrolled": true
   },
   "outputs": [],
   "source": [
    "loss_track = []\n",
    "lr_track = []\n",
    "for i in range(100):\n",
    "    # getting random mini batches\n",
    "    # 32 indices are randomly generated\n",
    "    ix = torch.randint(0, X.shape[0], (32,))\n",
    "\n",
    "    # forward pass\n",
    "    emb = C[X[ix]]\n",
    "    h = torch.tanh(emb.view(-1, 6) @ W1 + b1)\n",
    "    logits = h @ W2 + b2\n",
    "    loss = F.cross_entropy(logits, Y[ix])\n",
    "\n",
    "    # track\n",
    "    loss_track.append(loss.item())\n",
    "    lr_track.append(lre[i])\n",
    "    # backward pass\n",
    "    for p in parameters:\n",
    "        p.grad = None\n",
    "\n",
    "    # when .backward() is kicked off, the autograd function executes backprop differentiating the computational graph from p.\n",
    "    loss.backward()\n",
    "    \n",
    "    # update\n",
    "    for p in parameters:\n",
    "        p.data += -lrs[i]*p.grad"
   ]
  },
  {
   "cell_type": "markdown",
   "id": "1b6728be-f827-4b10-8c35-49f0549c4dbb",
   "metadata": {},
   "source": [
    "#### Finding a good learning rate \n",
    "The idea is iterating into an exponential increasing list of learning rates and find which ones make the loss more stable"
   ]
  },
  {
   "cell_type": "code",
   "execution_count": 77,
   "id": "f1466e0e-7c91-4724-8e13-8e6c26146ab6",
   "metadata": {},
   "outputs": [],
   "source": [
    "lre = torch.linspace(-3, 0, iterations)\n",
    "lrs = 10**lre"
   ]
  },
  {
   "cell_type": "code",
   "execution_count": 78,
   "id": "d6ff9437-abf3-4d35-baab-093effe82106",
   "metadata": {},
   "outputs": [
    {
     "data": {
      "text/plain": [
       "[7.310534477233887,\n",
       " 6.790839672088623,\n",
       " 7.690193176269531,\n",
       " 5.775766372680664,\n",
       " 8.135406494140625,\n",
       " 5.311097621917725,\n",
       " 8.806873321533203,\n",
       " 7.434634685516357,\n",
       " 6.212513446807861,\n",
       " 6.521396160125732,\n",
       " 7.628840446472168,\n",
       " 6.003509044647217,\n",
       " 5.680726051330566,\n",
       " 5.34309196472168,\n",
       " 6.8733649253845215,\n",
       " 6.420897006988525,\n",
       " 6.944580078125,\n",
       " 8.397017478942871,\n",
       " 7.240819931030273,\n",
       " 6.080768585205078,\n",
       " 5.77609920501709,\n",
       " 7.346543788909912,\n",
       " 7.945135593414307,\n",
       " 8.458189010620117,\n",
       " 7.063790321350098,\n",
       " 7.349616527557373,\n",
       " 7.3743367195129395,\n",
       " 10.315694808959961,\n",
       " 6.0294599533081055,\n",
       " 6.3698015213012695,\n",
       " 7.942902088165283,\n",
       " 7.458354473114014,\n",
       " 6.7075653076171875,\n",
       " 6.995547294616699,\n",
       " 6.499564170837402,\n",
       " 7.016817092895508,\n",
       " 7.493383884429932,\n",
       " 7.209637641906738,\n",
       " 5.121764183044434,\n",
       " 7.586089134216309,\n",
       " 5.877751350402832,\n",
       " 6.840388774871826,\n",
       " 5.516308784484863,\n",
       " 7.630855560302734,\n",
       " 6.522823333740234,\n",
       " 8.662284851074219,\n",
       " 6.38564395904541,\n",
       " 7.475413799285889,\n",
       " 7.826220989227295,\n",
       " 6.9571943283081055,\n",
       " 7.191524028778076,\n",
       " 6.353083610534668,\n",
       " 6.953403949737549,\n",
       " 5.666352272033691,\n",
       " 8.254261016845703,\n",
       " 6.526667594909668,\n",
       " 7.564718246459961,\n",
       " 6.78000545501709,\n",
       " 7.016539096832275,\n",
       " 7.774249076843262,\n",
       " 6.760783672332764,\n",
       " 7.521877288818359,\n",
       " 6.403491973876953,\n",
       " 7.245246410369873,\n",
       " 7.117921352386475,\n",
       " 5.477660655975342,\n",
       " 6.337881565093994,\n",
       " 5.806779384613037,\n",
       " 6.906311988830566,\n",
       " 4.841964244842529,\n",
       " 5.378548622131348,\n",
       " 7.404430389404297,\n",
       " 6.805741310119629,\n",
       " 7.205430030822754,\n",
       " 6.473762512207031,\n",
       " 7.500079154968262,\n",
       " 6.037412166595459,\n",
       " 8.16115665435791,\n",
       " 7.2590813636779785,\n",
       " 8.508493423461914,\n",
       " 5.791792869567871,\n",
       " 6.818641662597656,\n",
       " 6.737585544586182,\n",
       " 7.684602737426758,\n",
       " 6.053411960601807,\n",
       " 6.9588141441345215,\n",
       " 5.710693359375,\n",
       " 8.091633796691895,\n",
       " 5.502249240875244,\n",
       " 6.575865745544434,\n",
       " 6.454123497009277,\n",
       " 5.564809322357178,\n",
       " 7.1165361404418945,\n",
       " 8.173905372619629,\n",
       " 5.91018009185791,\n",
       " 5.856178283691406,\n",
       " 6.079362392425537,\n",
       " 8.104680061340332,\n",
       " 5.760776042938232,\n",
       " 6.3307294845581055]"
      ]
     },
     "execution_count": 78,
     "metadata": {},
     "output_type": "execute_result"
    }
   ],
   "source": [
    "loss_track"
   ]
  },
  {
   "cell_type": "code",
   "execution_count": 79,
   "id": "e12771cf-c86c-4e33-96b7-0c09ac2974d2",
   "metadata": {},
   "outputs": [
    {
     "data": {
      "text/plain": [
       "[<matplotlib.lines.Line2D at 0x10fed0490>]"
      ]
     },
     "execution_count": 79,
     "metadata": {},
     "output_type": "execute_result"
    },
    {
     "data": {
      "image/png": "[encoded data removed]",
      "text/plain": [
       "<Figure size 640x480 with 1 Axes>"
      ]
     },
     "metadata": {},
     "output_type": "display_data"
    }
   ],
   "source": [
    "plt.plot(lr_track, loss_track)"
   ]
  },
  {
   "cell_type": "code",
   "execution_count": 45,
   "id": "647a3c45-a0f1-4fb4-b6c8-ad63abc412e8",
   "metadata": {},
   "outputs": [],
   "source": [
    "# splits, large hidden layer, large embedding, visualizing embeddings"
   ]
  },
  {
   "cell_type": "markdown",
   "id": "73535cf8-6b42-48f0-80d8-9a5430b0d4b2",
   "metadata": {},
   "source": [
    "## Data set splits\n",
    "Usually a dataset is split into 3 parts: training, validation and test split.\n",
    "- Training: for optimizing parameters\n",
    "- Validation: for optimizing hyperparameters\n",
    "- Test: To evaluate performance"
   ]
  },
  {
   "cell_type": "markdown",
   "id": "6851bfd6-d48e-4e47-840b-97f1eaa149a1",
   "metadata": {},
   "source": [
    "### Build data set + Splits"
   ]
  },
  {
   "cell_type": "code",
   "execution_count": 190,
   "id": "382bbb62-a544-49e0-a73a-f7bc4307d25e",
   "metadata": {},
   "outputs": [],
   "source": [
    "def build_dataset(words):\n",
    "    block_size = 5\n",
    "    X, Y = [], []\n",
    "    for w in words:\n",
    "        context = [0] * block_size\n",
    "        for ch in w + '.':\n",
    "            ix = stoi[ch]\n",
    "            X.append(context)\n",
    "            Y.append(ix)\n",
    "            context = context[1:] + [ix]\n",
    "    \n",
    "    X = torch.tensor(X)\n",
    "    Y = torch.tensor(Y)\n",
    "\n",
    "    return X,Y\n"
   ]
  },
  {
   "cell_type": "code",
   "execution_count": 191,
   "id": "917cc477-fccc-4a9f-8c28-1c2d7970b24c",
   "metadata": {},
   "outputs": [],
   "source": [
    "import random\n",
    "\n",
    "random.seed(42)\n",
    "random.shuffle(words)\n",
    "\n",
    "n1 = int(0.8*len(words))\n",
    "n2 = int(0.9*len(words))\n",
    "\n",
    "Xtr, Ytr = build_dataset(words[:n1])\n",
    "Xdev, Ydev = build_dataset(words[n1:n2])\n",
    "Xte, Yte = build_dataset(words[n2:])"
   ]
  },
  {
   "cell_type": "code",
   "execution_count": 194,
   "id": "21e729cd-5b6e-450d-b5cc-e7832ba85577",
   "metadata": {},
   "outputs": [
    {
     "data": {
      "text/plain": [
       "torch.Size([228146, 3])"
      ]
     },
     "execution_count": 194,
     "metadata": {},
     "output_type": "execute_result"
    }
   ],
   "source": [
    "X.shape"
   ]
  },
  {
   "cell_type": "markdown",
   "id": "2e6e382a-fcfd-49d4-985d-d03c6058bb03",
   "metadata": {},
   "source": [
    "### Training on `Xtr`"
   ]
  },
  {
   "cell_type": "code",
   "execution_count": 122,
   "id": "1c6593a0-075a-4856-9201-f95ef077abaa",
   "metadata": {},
   "outputs": [],
   "source": [
    "g = torch.Generator().manual_seed(2147483647)\n",
    "C = torch.randn((27,2), generator = g)\n",
    "W1 = torch.randn((6,300), generator = g)\n",
    "b1 = torch.randn(300, generator = g)\n",
    "W2 = torch.randn((300,27), generator = g)\n",
    "b2 = torch.randn(27, generator = g)"
   ]
  },
  {
   "cell_type": "code",
   "execution_count": 123,
   "id": "b8242e5a-0605-4fa9-81f9-42f07b1f0f11",
   "metadata": {},
   "outputs": [],
   "source": [
    "parameters = [C, W1, b1, W2, b2]"
   ]
  },
  {
   "cell_type": "code",
   "execution_count": 124,
   "id": "7fe09597-7b64-4d7a-bca3-19e85b99a4ad",
   "metadata": {},
   "outputs": [],
   "source": [
    "for p in parameters:\n",
    "    p.requires_grad = True"
   ]
  },
  {
   "cell_type": "code",
   "execution_count": 125,
   "id": "80f2c95e-9cf9-42e7-ab16-d1e616290846",
   "metadata": {},
   "outputs": [],
   "source": [
    "iterations = 30000"
   ]
  },
  {
   "cell_type": "code",
   "execution_count": 126,
   "id": "5243e6ef-019f-4b91-8236-d98e9aea6a41",
   "metadata": {},
   "outputs": [],
   "source": [
    "loss_track = []\n",
    "lr_track = []\n",
    "for i in range(10000):\n",
    "    # getting random mini batches\n",
    "    # 32 indices are randomly generated\n",
    "    ix = torch.randint(0, Xtr.shape[0], (32,))\n",
    "\n",
    "    # forward pass\n",
    "    emb = C[Xtr[ix]]\n",
    "    h = torch.tanh(emb.view(-1, 6) @ W1 + b1)\n",
    "    logits = h @ W2 + b2\n",
    "    loss = F.cross_entropy(logits, Ytr[ix])\n",
    "\n",
    "    # backward pass\n",
    "    for p in parameters:\n",
    "        p.grad = None\n",
    "\n",
    "    # when .backward() is kicked off, the autograd function executes backprop differentiating the computational graph from p.\n",
    "    loss.backward()\n",
    "    \n",
    "    # update\n",
    "    lr = 0.01\n",
    "    for p in parameters:\n",
    "        p.data += -lr*p.grad"
   ]
  },
  {
   "cell_type": "code",
   "execution_count": 127,
   "id": "e5c0b6fb-1cb1-41ee-8cbd-726546bfd8b1",
   "metadata": {},
   "outputs": [
    {
     "name": "stdout",
     "output_type": "stream",
     "text": [
      "2.460955858230591\n"
     ]
    }
   ],
   "source": [
    "print(loss.item())"
   ]
  },
  {
   "cell_type": "markdown",
   "id": "e64adee8-08a7-494b-9fed-591e5e74ef2e",
   "metadata": {},
   "source": [
    "### Evaluating on dev\n",
    "When training and dev loss are similar it means we are not memorizing and not over fitting"
   ]
  },
  {
   "cell_type": "code",
   "execution_count": 128,
   "id": "b91604e1-250d-4ecd-bf75-2d836ac89834",
   "metadata": {},
   "outputs": [],
   "source": [
    "emb = C[Xdev]\n",
    "h = torch.tanh(emb.view(-1, 6) @ W1 + b1)\n",
    "logits = h @ W2 + b2\n",
    "loss = F.cross_entropy(logits, Ydev)"
   ]
  },
  {
   "cell_type": "code",
   "execution_count": 129,
   "id": "b9cafc54-3715-4ca5-b124-02244d8b28da",
   "metadata": {},
   "outputs": [
    {
     "name": "stdout",
     "output_type": "stream",
     "text": [
      "2.565492630004883\n"
     ]
    }
   ],
   "source": [
    "print(loss.item())"
   ]
  },
  {
   "cell_type": "markdown",
   "id": "f5ec6b15-9aa2-4b65-9066-e62a5c9a284d",
   "metadata": {},
   "source": [
    "## Experiment: larger layer\n"
   ]
  },
  {
   "cell_type": "code",
   "execution_count": 130,
   "id": "c902707c-ddd3-44f6-9463-1aa4561c4f90",
   "metadata": {},
   "outputs": [],
   "source": [
    "lossi = []\n",
    "stepi = []\n",
    "\n",
    "for i in range(40000):\n",
    "    ix = torch.randint(0, Xtr.shape[0], (32,))\n",
    "\n",
    "    # forward pass\n",
    "    emb = C[Xtr[ix]]\n",
    "    h = torch.tanh(emb.view(-1, 6) @ W1 + b1)\n",
    "    logits = h @ W2 + b2\n",
    "    loss = F.cross_entropy(logits, Ytr[ix])\n",
    "\n",
    "    # backward pass\n",
    "    for p in parameters:\n",
    "        p.grad = None\n",
    "        \n",
    "    # -- backprop\n",
    "    loss.backward()\n",
    "    \n",
    "    # update\n",
    "    lr = 0.01\n",
    "    for p in parameters:\n",
    "        p.data += -lr*p.grad\n",
    "\n",
    "    # track\n",
    "    lossi.append(loss.item())\n",
    "    stepi.append(i)"
   ]
  },
  {
   "cell_type": "code",
   "execution_count": 131,
   "id": "7e042c15-87dd-4992-adef-dd25c566da5c",
   "metadata": {},
   "outputs": [
    {
     "data": {
      "text/plain": [
       "[<matplotlib.lines.Line2D at 0x10f2a82e0>]"
      ]
     },
     "execution_count": 131,
     "metadata": {},
     "output_type": "execute_result"
    },
    {
     "data": {
      "image/png": "[encoded data removed]",
      "text/plain": [
       "<Figure size 640x480 with 1 Axes>"
      ]
     },
     "metadata": {},
     "output_type": "display_data"
    }
   ],
   "source": [
    "plt.plot(stepi, lossi)"
   ]
  },
  {
   "cell_type": "code",
   "execution_count": 120,
   "id": "6c540099-7c3f-4d6c-ae94-60f41e4bf5ab",
   "metadata": {},
   "outputs": [
    {
     "data": {
      "text/plain": [
       "tensor(2.3234, grad_fn=<NllLossBackward0>)"
      ]
     },
     "execution_count": 120,
     "metadata": {},
     "output_type": "execute_result"
    }
   ],
   "source": [
    "emb = C[Xdev]\n",
    "h = torch.tanh(emb.view(-1, 6) @ W1 + b1)\n",
    "logits = h @ W2 + b2\n",
    "loss = F.cross_entropy(logits, Ydev)\n",
    "loss"
   ]
  },
  {
   "cell_type": "markdown",
   "id": "936b5ac7-ece9-481b-a479-68cc9af1e567",
   "metadata": {},
   "source": [
    "## Visualizing embeddings"
   ]
  },
  {
   "cell_type": "code",
   "execution_count": 121,
   "id": "3540d1f4-b887-4915-9b61-3e418dbff71e",
   "metadata": {},
   "outputs": [
    {
     "data": {
      "image/png": "[encoded data removed]",
      "text/plain": [
       "<Figure size 800x800 with 1 Axes>"
      ]
     },
     "metadata": {},
     "output_type": "display_data"
    }
   ],
   "source": [
    "plt.figure(figsize=(8,8))\n",
    "plt.scatter(C[:,0].data, C[:,1].data, s = 200)\n",
    "for i in range(C.shape[0]):\n",
    "    plt.text(C[i,0].item(), C[i,1].item(), itos[i], ha = \"center\", va=\"center\", color = \"white\")\n",
    "plt.grid('minor')"
   ]
  },
  {
   "cell_type": "markdown",
   "id": "4ba2c0c9-6fee-418f-b7e3-4b173ac37a7c",
   "metadata": {},
   "source": [
    "## Larger embedding size\n",
    "A larger layer did not lead to better results so let's try to increase the embedding size from 2 to 10"
   ]
  },
  {
   "cell_type": "code",
   "execution_count": 195,
   "id": "0a95bbad-e96e-4928-b4b2-213e51978c87",
   "metadata": {},
   "outputs": [],
   "source": [
    "g = torch.Generator().manual_seed(2147483647)\n",
    "# embeddings\n",
    "C = torch.randn((27,10), generator = g)\n",
    "W1 = torch.randn((50,250), generator = g)\n",
    "b1 = torch.randn(250, generator = g)\n",
    "W2 = torch.randn((250,27), generator = g)\n",
    "b2 = torch.randn(27, generator = g)\n",
    "parameters = [C, W1, b1, W2, b2]"
   ]
  },
  {
   "cell_type": "code",
   "execution_count": 196,
   "id": "fa9ee170-59b2-46d9-b3b8-db7c28741757",
   "metadata": {},
   "outputs": [
    {
     "data": {
      "text/plain": [
       "19797"
      ]
     },
     "execution_count": 196,
     "metadata": {},
     "output_type": "execute_result"
    }
   ],
   "source": [
    "sum(p.nelement() for p in parameters)"
   ]
  },
  {
   "cell_type": "code",
   "execution_count": 197,
   "id": "c38589c6-a69e-4c6d-84b1-9eb9925d67b4",
   "metadata": {},
   "outputs": [],
   "source": [
    "for p in parameters:\n",
    "    p.requires_grad = True"
   ]
  },
  {
   "cell_type": "code",
   "execution_count": null,
   "id": "54d5d540-0f1d-40c4-bf61-b8dbfdc8ffa8",
   "metadata": {},
   "outputs": [],
   "source": []
  },
  {
   "cell_type": "code",
   "execution_count": 207,
   "id": "a1a1fe0b-bcc5-4aec-8304-48e63184315e",
   "metadata": {},
   "outputs": [],
   "source": [
    "lri = []\n",
    "lossi = []\n",
    "stepi = []\n",
    "for i in range(200000):\n",
    "    ix = torch.randint(0, Xtr.shape[0], (50,))\n",
    "\n",
    "    # forward pass\n",
    "    emb = C[Xtr[ix]]\n",
    "    h = torch.tanh(emb.view(-1, 50) @ W1 + b1)\n",
    "    logits = h @ W2 + b2\n",
    "    loss = F.cross_entropy(logits, Ytr[ix])\n",
    "\n",
    "    for p in parameters:\n",
    "        p.grad = None\n",
    "        \n",
    "    loss.backward()\n",
    "\n",
    "    lr = 0.1 if i < 100000 else 0.01\n",
    "    for p in parameters:\n",
    "        p.data += -lr * p.grad\n",
    "\n",
    "    stepi.append(i)\n",
    "    lossi.append(loss.log10().item())"
   ]
  },
  {
   "cell_type": "code",
   "execution_count": 208,
   "id": "8b0d1913-2869-4759-bcdd-6b7fb73c9997",
   "metadata": {},
   "outputs": [
    {
     "data": {
      "text/plain": [
       "[<matplotlib.lines.Line2D at 0x10f0d94c0>]"
      ]
     },
     "execution_count": 208,
     "metadata": {},
     "output_type": "execute_result"
    },
    {
     "data": {
      "image/png": "[encoded data removed]",
      "text/plain": [
       "<Figure size 640x480 with 1 Axes>"
      ]
     },
     "metadata": {},
     "output_type": "display_data"
    }
   ],
   "source": [
    "plt.plot(stepi, lossi)"
   ]
  },
  {
   "cell_type": "code",
   "execution_count": 209,
   "id": "4eece9be-88a0-47f6-bb0b-e7ca2da62114",
   "metadata": {},
   "outputs": [
    {
     "data": {
      "text/plain": [
       "tensor(2.1494, grad_fn=<NllLossBackward0>)"
      ]
     },
     "execution_count": 209,
     "metadata": {},
     "output_type": "execute_result"
    }
   ],
   "source": [
    "emb = C[Xdev]\n",
    "h = torch.tanh(emb.view(-1, 50) @ W1 + b1)\n",
    "logits = h @ W2 + b2\n",
    "loss = F.cross_entropy(logits, Ydev)\n",
    "loss"
   ]
  },
  {
   "cell_type": "code",
   "execution_count": 210,
   "id": "0a91ee28-a232-458e-9f6c-fb70a2ca90f0",
   "metadata": {},
   "outputs": [
    {
     "data": {
      "text/plain": [
       "tensor(2.1630, grad_fn=<NllLossBackward0>)"
      ]
     },
     "execution_count": 210,
     "metadata": {},
     "output_type": "execute_result"
    }
   ],
   "source": [
    "emb = C[Xte]\n",
    "h = torch.tanh(emb.view(-1, 50) @ W1 + b1)\n",
    "logits = h @ W2 + b2\n",
    "loss = F.cross_entropy(logits, Yte)\n",
    "loss"
   ]
  },
  {
   "cell_type": "markdown",
   "id": "72852a54-e16a-41d8-a9ce-51b7392938b9",
   "metadata": {},
   "source": [
    "## Sampling from the model"
   ]
  },
  {
   "cell_type": "code",
   "execution_count": 220,
   "id": "2203b22f-c3fd-4abf-874a-8a9741962b88",
   "metadata": {},
   "outputs": [
    {
     "name": "stdout",
     "output_type": "stream",
     "text": [
      "carmah.\n",
      "amille.\n",
      "khisma.\n",
      "xilet.\n",
      "khalana.\n",
      "ejrahnen.\n",
      "dellyn.\n",
      "jarquis.\n",
      "ramari.\n",
      "chaiia.\n",
      "kaleigh.\n",
      "hamriow.\n",
      "dessan.\n",
      "sulin.\n",
      "alivabiu.\n",
      "jaelon.\n",
      "jaryxi.\n",
      "jaceelinsa.\n",
      "med.\n",
      "ediia.\n",
      "gianley.\n",
      "frana.\n",
      "aseon.\n",
      "jersyn.\n",
      "naqqocore.\n",
      "jooje.\n",
      "calaira.\n",
      "nekpela.\n",
      "luuo.\n",
      "zoessa.\n"
     ]
    }
   ],
   "source": [
    "g = torch.Generator().manual_seed(2147483647 + 10)\n",
    "\n",
    "num_names = 30\n",
    "\n",
    "block_size = 5\n",
    "\n",
    "for _ in range(num_names):\n",
    "    out = list()\n",
    "    context = [0] * block_size\n",
    "    while True:\n",
    "        emb = C[torch.tensor([context])]\n",
    "        h = torch.tanh(emb.view(-1, 50) @ W1 + b1)\n",
    "        logits = h @ W2 + b2\n",
    "        probs = F.softmax(logits, dim = 1)\n",
    "        ix = torch.multinomial(probs, num_samples = 1, generator = g).item()\n",
    "        context = context[1:] + [ix]\n",
    "        out.append(ix)\n",
    "        # 0 is dot, name is finished\n",
    "        if ix == 0:\n",
    "            break\n",
    "    print(''.join(itos[i] for i in out))"
   ]
  },
  {
   "cell_type": "code",
   "execution_count": null,
   "id": "c9aca19f-f12b-4a86-8aa3-d56d43a9d6f9",
   "metadata": {},
   "outputs": [],
   "source": []
  }
 ],
 "metadata": {
  "kernelspec": {
   "display_name": "Python (makemore)",
   "language": "python",
   "name": "makemore"
  },
  "language_info": {
   "codemirror_mode": {
    "name": "ipython",
    "version": 3
   },
   "file_extension": ".py",
   "mimetype": "text/x-python",
   "name": "python",
   "nbconvert_exporter": "python",
   "pygments_lexer": "ipython3",
   "version": "3.9.6"
  }
 },
 "nbformat": 4,
 "nbformat_minor": 5
}

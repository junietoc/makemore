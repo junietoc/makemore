{
 "cells": [
  {
   "cell_type": "markdown",
   "id": "615fa84d-33a5-4dbc-953d-3779cfec9ba4",
   "metadata": {},
   "source": [
    "## Makemore pt3"
   ]
  },
  {
   "cell_type": "code",
   "execution_count": 1,
   "id": "8ba60125-fff3-45b2-84e7-84af7304a7b4",
   "metadata": {},
   "outputs": [],
   "source": [
    "import torch"
   ]
  },
  {
   "cell_type": "code",
   "execution_count": 25,
   "id": "a4698b69-92e9-402a-b5d4-5cffaf2ed20c",
   "metadata": {},
   "outputs": [],
   "source": [
    "import torch.nn.functional as F"
   ]
  },
  {
   "cell_type": "code",
   "execution_count": 32,
   "id": "e863eb68-821a-42c0-8695-b413029c016e",
   "metadata": {},
   "outputs": [],
   "source": [
    "import matplotlib.pyplot as plt"
   ]
  },
  {
   "cell_type": "code",
   "execution_count": 42,
   "id": "cb4ad2f2-043a-46f1-ad14-693527d18b5f",
   "metadata": {},
   "outputs": [],
   "source": [
    "%matplotlib inline"
   ]
  },
  {
   "cell_type": "code",
   "execution_count": 2,
   "id": "bc9872c8-9093-4b78-9e16-90608bcec03f",
   "metadata": {},
   "outputs": [
    {
     "data": {
      "text/plain": [
       "['emma', 'olivia', 'ava', 'isabella', 'sophia']"
      ]
     },
     "execution_count": 2,
     "metadata": {},
     "output_type": "execute_result"
    }
   ],
   "source": [
    "words = open(\"names.txt\", \"r\").read().splitlines()\n",
    "words[:5]"
   ]
  },
  {
   "cell_type": "code",
   "execution_count": 3,
   "id": "784df867-8e75-4547-8286-84e33a30a29e",
   "metadata": {},
   "outputs": [
    {
     "data": {
      "text/plain": [
       "32033"
      ]
     },
     "execution_count": 3,
     "metadata": {},
     "output_type": "execute_result"
    }
   ],
   "source": [
    "len(words)"
   ]
  },
  {
   "cell_type": "code",
   "execution_count": 4,
   "id": "58825358-e8b4-427a-848b-3cad8eb45078",
   "metadata": {},
   "outputs": [
    {
     "data": {
      "text/plain": [
       "27"
      ]
     },
     "execution_count": 4,
     "metadata": {},
     "output_type": "execute_result"
    }
   ],
   "source": [
    "# build vocab and mappings\n",
    "chars = sorted(list(set(''.join(words))))\n",
    "itos = {i+1:c for i,c in enumerate(chars)}\n",
    "itos[0] = \".\"\n",
    "stoi = {c:i for i,c in itos.items()}\n",
    "vocab_size = len(stoi)\n",
    "vocab_size"
   ]
  },
  {
   "cell_type": "code",
   "execution_count": 5,
   "id": "60a557a4-50dc-41fe-a9bb-63519e5238ec",
   "metadata": {},
   "outputs": [],
   "source": [
    "# build dataset\n",
    "block_size = 3\n",
    "\n",
    "def build_dataset(words):\n",
    "    X, Y = [], []\n",
    "    for w in words:\n",
    "        context = [0]*block_size\n",
    "        for ch in w + \".\":\n",
    "            ix = stoi[ch]\n",
    "            X.append(context)\n",
    "            Y.append(ix)\n",
    "            context = context[1:] + [ix]\n",
    "    X = torch.tensor(X)\n",
    "    Y = torch.tensor(Y)\n",
    "\n",
    "    print(X.shape, Y.shape)\n",
    "\n",
    "    return X, Y\n",
    "            "
   ]
  },
  {
   "cell_type": "code",
   "execution_count": 34,
   "id": "2e216d2a-3063-4dc4-86f0-686e56cb60a3",
   "metadata": {},
   "outputs": [
    {
     "name": "stdout",
     "output_type": "stream",
     "text": [
      "torch.Size([182437, 3]) torch.Size([182437])\n",
      "torch.Size([22781, 3]) torch.Size([22781])\n",
      "torch.Size([22928, 3]) torch.Size([22928])\n"
     ]
    }
   ],
   "source": [
    "# data splits\n",
    "import random\n",
    "random.seed(42)\n",
    "\n",
    "n1 = int(0.8 * len(words))\n",
    "n2 = int(0.9 * len(words))\n",
    "\n",
    "random.shuffle(words)\n",
    "\n",
    "\n",
    "Xtr, Ytr = build_dataset(words[:n1])\n",
    "Xdev, Ydev = build_dataset(words[n1:n2])\n",
    "Xte, Yte = build_dataset(words[n2:])"
   ]
  },
  {
   "cell_type": "code",
   "execution_count": 58,
   "id": "e22fa44f-3d6c-4c30-bd14-5eb1cea03381",
   "metadata": {},
   "outputs": [
    {
     "name": "stdout",
     "output_type": "stream",
     "text": [
      "Number of parameters: 11897\n"
     ]
    }
   ],
   "source": [
    "# MLP revisited\n",
    "n_embd = 10 # dimension of the characters embeddings\n",
    "neurons_hidden = 200\n",
    "\n",
    "g = torch.Generator().manual_seed(2147483647)\n",
    "C = torch.randn((vocab_size, n_embd),                       generator = g)\n",
    "W1 = torch.randn((n_embd * block_size, neurons_hidden), generator = g)\n",
    "b1 = torch.randn(neurons_hidden,                            generator = g)\n",
    "W2 = torch.randn((neurons_hidden, vocab_size),              generator = g) * 0.01\n",
    "b2 = torch.randn(vocab_size,                                generator = g) * 0\n",
    "\n",
    "parameters = [C, W1, b1, W2, b2]\n",
    "\n",
    "print(f\"Number of parameters: {sum(p.nelement() for p in parameters)}\")\n",
    "\n",
    "for p in parameters:\n",
    "    p.requires_grad = True"
   ]
  },
  {
   "cell_type": "code",
   "execution_count": 59,
   "id": "ebc96fd9-151e-4f14-bce1-81fb2420ce9e",
   "metadata": {},
   "outputs": [
    {
     "name": "stdout",
     "output_type": "stream",
     "text": [
      "      0/ 200000: 3.299860\n"
     ]
    }
   ],
   "source": [
    "# optimization\n",
    "max_steps = 200000\n",
    "batch_size = 32\n",
    "lossi = list()\n",
    "\n",
    "for i in range(max_steps):\n",
    "\n",
    "    # minibatch construct \n",
    "    ix = torch.randint(0, Xtr.shape[0], (batch_size, ), generator = g)\n",
    "    Xb, Yb = Xtr[ix], Ytr[ix]\n",
    "\n",
    "    # forward pass\n",
    "    emb = C[Xb]\n",
    "    h = torch.tanh(emb.view(-1, block_size * n_embd) @ W1 + b1)\n",
    "    logits = h @ W2 + b2\n",
    "    loss = F.cross_entropy(logits, Yb)\n",
    "\n",
    "    # backward pass\n",
    "    for p in parameters:\n",
    "        p.grad = None\n",
    "    loss.backward()\n",
    "\n",
    "    # gradient\n",
    "    lr = 0.1\n",
    "    for p in parameters:\n",
    "        p.data += -lr * p.grad\n",
    "\n",
    "    # track stats\n",
    "    if (i % 10000) == 0:\n",
    "        print(f\"{i:7d}/{max_steps:7d}: {loss.item():4f}\")\n",
    "    lossi.append(loss.log10().item())\n",
    "\n",
    "    break"
   ]
  },
  {
   "cell_type": "code",
   "execution_count": 57,
   "id": "719bc48b-113d-4c1e-a180-1f254f1a4b1d",
   "metadata": {},
   "outputs": [
    {
     "data": {
      "text/plain": [
       "[<matplotlib.lines.Line2D at 0x12ec16c10>]"
      ]
     },
     "execution_count": 57,
     "metadata": {},
     "output_type": "execute_result"
    },
    {
     "data": {
      "image/png": "[encoded data removed]",
      "text/plain": [
       "<Figure size 640x480 with 1 Axes>"
      ]
     },
     "metadata": {},
     "output_type": "display_data"
    }
   ],
   "source": [
    "plt.plot(lossi)"
   ]
  },
  {
   "cell_type": "code",
   "execution_count": 60,
   "id": "6cdb34f4-5883-4f04-8f62-7afb514ce80c",
   "metadata": {},
   "outputs": [
    {
     "data": {
      "text/plain": [
       "tensor([[-0.9620, -1.0000, -1.0000,  ..., -0.1601, -1.0000, -1.0000],\n",
       "        [ 0.1131,  0.2711, -1.0000,  ..., -0.9979,  0.9930,  1.0000],\n",
       "        [-1.0000,  0.9604, -0.1418,  ..., -0.1266,  1.0000,  1.0000],\n",
       "        ...,\n",
       "        [-0.1424, -0.9988, -0.7355,  ..., -1.0000,  1.0000,  1.0000],\n",
       "        [-0.9610,  0.7872, -0.9890,  ..., -1.0000,  0.9994,  1.0000],\n",
       "        [-0.9620, -1.0000, -1.0000,  ..., -0.1601, -1.0000, -1.0000]],\n",
       "       grad_fn=<TanhBackward0>)"
      ]
     },
     "execution_count": 60,
     "metadata": {},
     "output_type": "execute_result"
    }
   ],
   "source": [
    "h"
   ]
  },
  {
   "cell_type": "code",
   "execution_count": 43,
   "id": "86512a0a-96b0-4ad1-a9f1-a14d499e5ea8",
   "metadata": {},
   "outputs": [
    {
     "name": "stdout",
     "output_type": "stream",
     "text": [
      "train 2.2080860137939453\n",
      "val 2.2769291400909424\n"
     ]
    }
   ],
   "source": [
    "@torch.no_grad()\n",
    "def split_loss(split):\n",
    "    x,y = {\n",
    "        'train': (Xtr, Ytr),\n",
    "        'val': (Xdev, Ydev),\n",
    "        'test': (Xte, Yte)\n",
    "    }[split]\n",
    "    emb = C[x]\n",
    "    h = torch.tanh(emb.view(emb.shape[0], -1) @ W1 + b1)\n",
    "    logits = h @ W2 + b2\n",
    "    loss = F.cross_entropy(logits, y)\n",
    "    print(split, loss.item())\n",
    "\n",
    "split_loss('train')\n",
    "split_loss('val')"
   ]
  },
  {
   "cell_type": "code",
   "execution_count": 51,
   "id": "0e5666f3-046a-4b4b-bd4f-e86ceded290c",
   "metadata": {},
   "outputs": [
    {
     "name": "stdout",
     "output_type": "stream",
     "text": [
      "carmahzabelle.\n",
      "khy.\n",
      "mish.\n",
      "tetleenandeller.\n",
      "hutt.\n",
      "den.\n",
      "rhy.\n",
      "treyi.\n",
      "ner.\n",
      "kitt.\n",
      "madir.\n",
      "kaleigh.\n",
      "ham.\n",
      "pord.\n",
      "quinton.\n",
      "lilto.\n",
      "jadbi.\n",
      "wayth.\n",
      "givaryxia.\n",
      "kaeliigh.\n",
      "ton.\n"
     ]
    }
   ],
   "source": [
    "# sample from the model\n",
    "g = torch.Generator().manual_seed(2147483647 + 10 )\n",
    "\n",
    "num_names = 21\n",
    "for _ in range(num_names):\n",
    "    out = list()\n",
    "    context = [0] * block_size\n",
    "    while True:\n",
    "        # forward pass\n",
    "        emb = C[context]\n",
    "        h = torch.tanh(emb.view(-1, block_size * n_embd) @ W1 + b1)\n",
    "        logits = h @ W2 + b2\n",
    "        probs = F.softmax(logits, dim=1)\n",
    "\n",
    "        # sample from the distribution\n",
    "        ix = torch.multinomial(probs, num_samples = 1, generator = g).item()\n",
    "\n",
    "        # shift context window\n",
    "        context = context[1:] + [ix]\n",
    "\n",
    "        # update new character\n",
    "        out.append(ix)\n",
    "\n",
    "        if ix == 0:\n",
    "            break\n",
    "    print(''.join(itos[i] for i in out))"
   ]
  },
  {
   "cell_type": "code",
   "execution_count": 47,
   "id": "9c685a10-c7b1-4973-9ac3-1ef95f0f67f9",
   "metadata": {},
   "outputs": [
    {
     "data": {
      "text/plain": [
       "tensor([[ 2.5980,  0.5394,  0.0978, -0.9287,  0.5615,  0.1816, -2.4448,  0.8508,\n",
       "          0.5875,  1.7962,  2.5980,  0.5394,  0.0978, -0.9287,  0.5615,  0.1816,\n",
       "         -2.4448,  0.8508,  0.5875,  1.7962,  2.5980,  0.5394,  0.0978, -0.9287,\n",
       "          0.5615,  0.1816, -2.4448,  0.8508,  0.5875,  1.7962]],\n",
       "       grad_fn=<ViewBackward0>)"
      ]
     },
     "execution_count": 47,
     "metadata": {},
     "output_type": "execute_result"
    }
   ],
   "source": [
    "emb.view(1, -1)"
   ]
  },
  {
   "cell_type": "code",
   "execution_count": 50,
   "id": "b88edbc1-e522-48eb-bf6b-7c04c6eee4e1",
   "metadata": {},
   "outputs": [
    {
     "data": {
      "text/plain": [
       "torch.Size([3, 10])"
      ]
     },
     "execution_count": 50,
     "metadata": {},
     "output_type": "execute_result"
    }
   ],
   "source": [
    "emb.view(emb.shape[0], -1).shape"
   ]
  },
  {
   "cell_type": "code",
   "execution_count": 49,
   "id": "6a6ef62d-afc9-402c-bda5-d3969acae597",
   "metadata": {},
   "outputs": [
    {
     "data": {
      "text/plain": [
       "torch.Size([3, 10])"
      ]
     },
     "execution_count": 49,
     "metadata": {},
     "output_type": "execute_result"
    }
   ],
   "source": [
    "emb.shape"
   ]
  },
  {
   "cell_type": "markdown",
   "id": "9ab318ec-2757-443b-9cdc-18bf1088533e",
   "metadata": {},
   "source": [
    "## Problems with our previous implementation"
   ]
  },
  {
   "cell_type": "markdown",
   "id": "81cd8a55-e476-4e1b-aa11-94f54ff4d733",
   "metadata": {},
   "source": [
    "### Fixing the initial loss\n",
    "The first item of the loss is too high and then it stabilizes. That causes the loss plot to look like a hockey stick which gauges that the model is learning the bias only in the first iterations. \n",
    "- **Cause:** A poor initialization of the last layers wandb\n",
    "- **Solution:** Scale `W1` by `0.01` and set `b2 = b2 * 0`"
   ]
  },
  {
   "cell_type": "markdown",
   "id": "335ac871-d1af-4da5-a11b-1b12d78606ff",
   "metadata": {},
   "source": [
    "### Fixing saturated tanh\n",
    "- If we see the values of `h` after the first iteration we see this\n",
    "``` tensor([[-0.9620, -1.0000, -1.0000,  ..., -0.1601, -1.0000, -1.0000],\n",
    "        [ 0.1131,  0.2711, -1.0000,  ..., -0.9979,  0.9930,  1.0000],\n",
    "        [-1.0000,  0.9604, -0.1418,  ..., -0.1266,  1.0000,  1.0000],\n",
    "        ...,\n",
    "        [-0.1424, -0.9988, -0.7355,  ..., -1.0000,  1.0000,  1.0000],\n",
    "        [-0.9610,  0.7872, -0.9890,  ..., -1.0000,  0.9994,  1.0000],\n",
    "        [-0.9620, -1.0000, -1.0000,  ..., -0.1601, -1.0000, -1.0000]],\n",
    "       grad_fn=<TanhBackward0>)\n",
    "```\n",
    "\n",
    "- If wee see the values of `h` in a histogram we get this\n"
   ]
  },
  {
   "cell_type": "code",
   "execution_count": 66,
   "id": "216199a5-2d4c-4fb8-8874-2c9d5db5495e",
   "metadata": {},
   "outputs": [
    {
     "data": {
      "text/plain": [
       "(array([2180.,  163.,   90.,   79.,   55.,   49.,   36.,   36.,   33.,\n",
       "          30.,   40.,   33.,   25.,   26.,   17.,   19.,   26.,   29.,\n",
       "          23.,   21.,   22.,   26.,   20.,   30.,   15.,   16.,   16.,\n",
       "          17.,   13.,   14.,   27.,   31.,   25.,   24.,   15.,   24.,\n",
       "          31.,   25.,   27.,   28.,   28.,   46.,   39.,   46.,   63.,\n",
       "          66.,   71.,  110.,  181., 2294.]),\n",
       " array([-1.  , -0.96, -0.92, -0.88, -0.84, -0.8 , -0.76, -0.72, -0.68,\n",
       "        -0.64, -0.6 , -0.56, -0.52, -0.48, -0.44, -0.4 , -0.36, -0.32,\n",
       "        -0.28, -0.24, -0.2 , -0.16, -0.12, -0.08, -0.04,  0.  ,  0.04,\n",
       "         0.08,  0.12,  0.16,  0.2 ,  0.24,  0.28,  0.32,  0.36,  0.4 ,\n",
       "         0.44,  0.48,  0.52,  0.56,  0.6 ,  0.64,  0.68,  0.72,  0.76,\n",
       "         0.8 ,  0.84,  0.88,  0.92,  0.96,  1.  ]),\n",
       " <BarContainer object of 50 artists>)"
      ]
     },
     "execution_count": 66,
     "metadata": {},
     "output_type": "execute_result"
    },
    {
     "data": {
      "image/png": "[encoded data removed]",
      "text/plain": [
       "<Figure size 640x480 with 1 Axes>"
      ]
     },
     "metadata": {},
     "output_type": "display_data"
    }
   ],
   "source": [
    "plt.hist(h.view(-1).tolist(), 50)"
   ]
  },
  {
   "cell_type": "markdown",
   "id": "3324b1f6-c321-45d9-b77c-6043f1a17349",
   "metadata": {
    "collapsed": true,
    "jupyter": {
     "outputs_hidden": true
    }
   },
   "source": [
    "That histograms tells us that this `tanh` function is very active. We can see why is that seeing the preactivations of `h`"
   ]
  },
  {
   "cell_type": "code",
   "execution_count": 72,
   "id": "347451b2-d41e-42c1-887d-c41e8ad77ba0",
   "metadata": {},
   "outputs": [],
   "source": [
    "hpreact = emb.view(-1, block_size * n_embd) @ W1 + b1"
   ]
  },
  {
   "cell_type": "code",
   "execution_count": 73,
   "id": "5afa46d7-dc72-4fb0-ba55-9c06589f6410",
   "metadata": {},
   "outputs": [
    {
     "data": {
      "text/plain": [
       "(array([2180.,  163.,   90.,   79.,   55.,   50.,   35.,   36.,   33.,\n",
       "          31.,   39.,   33.,   25.,   26.,   17.,   19.,   26.,   29.,\n",
       "          23.,   21.,   19.,   28.,   23.,   28.,   15.,   16.,   16.,\n",
       "          17.,   13.,   14.,   27.,   31.,   24.,   25.,   15.,   23.,\n",
       "          32.,   25.,   27.,   28.,   28.,   46.,   36.,   49.,   63.,\n",
       "          64.,   73.,  110.,  181., 2294.]),\n",
       " array([-1.  , -0.96, -0.92, -0.88, -0.84, -0.8 , -0.76, -0.72, -0.68,\n",
       "        -0.64, -0.6 , -0.56, -0.52, -0.48, -0.44, -0.4 , -0.36, -0.32,\n",
       "        -0.28, -0.24, -0.2 , -0.16, -0.12, -0.08, -0.04,  0.  ,  0.04,\n",
       "         0.08,  0.12,  0.16,  0.2 ,  0.24,  0.28,  0.32,  0.36,  0.4 ,\n",
       "         0.44,  0.48,  0.52,  0.56,  0.6 ,  0.64,  0.68,  0.72,  0.76,\n",
       "         0.8 ,  0.84,  0.88,  0.92,  0.96,  1.  ]),\n",
       " <BarContainer object of 50 artists>)"
      ]
     },
     "execution_count": 73,
     "metadata": {},
     "output_type": "execute_result"
    },
    {
     "data": {
      "image/png": "[encoded data removed]",
      "text/plain": [
       "<Figure size 640x480 with 1 Axes>"
      ]
     },
     "metadata": {},
     "output_type": "display_data"
    }
   ],
   "source": [
    "plt.hist(hpreact.view(-1).tolist(), 50)"
   ]
  },
  {
   "cell_type": "code",
   "execution_count": null,
   "id": "4d6de513-fd41-4f21-a82e-df86e7047b29",
   "metadata": {},
   "outputs": [],
   "source": [
    "# questions\n",
    "# 1. why is the tanh histogram giving a lot of 1s and -1 when the most frequent preact value is 0? should it be also zero?"
   ]
  }
 ],
 "metadata": {
  "kernelspec": {
   "display_name": "Python (makemore)",
   "language": "python",
   "name": "makemore"
  },
  "language_info": {
   "codemirror_mode": {
    "name": "ipython",
    "version": 3
   },
   "file_extension": ".py",
   "mimetype": "text/x-python",
   "name": "python",
   "nbconvert_exporter": "python",
   "pygments_lexer": "ipython3",
   "version": "3.9.6"
  }
 },
 "nbformat": 4,
 "nbformat_minor": 5
}

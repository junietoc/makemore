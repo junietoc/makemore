{
 "cells": [
  {
   "cell_type": "markdown",
   "id": "615fa84d-33a5-4dbc-953d-3779cfec9ba4",
   "metadata": {},
   "source": [
    "## Makemore pt3"
   ]
  },
  {
   "cell_type": "code",
   "execution_count": 1,
   "id": "8ba60125-fff3-45b2-84e7-84af7304a7b4",
   "metadata": {},
   "outputs": [],
   "source": [
    "import torch"
   ]
  },
  {
   "cell_type": "code",
   "execution_count": 2,
   "id": "a4698b69-92e9-402a-b5d4-5cffaf2ed20c",
   "metadata": {},
   "outputs": [],
   "source": [
    "import torch.nn.functional as F"
   ]
  },
  {
   "cell_type": "code",
   "execution_count": 3,
   "id": "e863eb68-821a-42c0-8695-b413029c016e",
   "metadata": {},
   "outputs": [],
   "source": [
    "import matplotlib.pyplot as plt"
   ]
  },
  {
   "cell_type": "code",
   "execution_count": 4,
   "id": "cb4ad2f2-043a-46f1-ad14-693527d18b5f",
   "metadata": {},
   "outputs": [],
   "source": [
    "%matplotlib inline"
   ]
  },
  {
   "cell_type": "code",
   "execution_count": 5,
   "id": "bc9872c8-9093-4b78-9e16-90608bcec03f",
   "metadata": {},
   "outputs": [
    {
     "data": {
      "text/plain": [
       "['emma', 'olivia', 'ava', 'isabella', 'sophia']"
      ]
     },
     "execution_count": 5,
     "metadata": {},
     "output_type": "execute_result"
    }
   ],
   "source": [
    "words = open(\"names.txt\", \"r\").read().splitlines()\n",
    "words[:5]"
   ]
  },
  {
   "cell_type": "code",
   "execution_count": 6,
   "id": "784df867-8e75-4547-8286-84e33a30a29e",
   "metadata": {},
   "outputs": [
    {
     "data": {
      "text/plain": [
       "32033"
      ]
     },
     "execution_count": 6,
     "metadata": {},
     "output_type": "execute_result"
    }
   ],
   "source": [
    "len(words)"
   ]
  },
  {
   "cell_type": "code",
   "execution_count": 7,
   "id": "58825358-e8b4-427a-848b-3cad8eb45078",
   "metadata": {},
   "outputs": [
    {
     "data": {
      "text/plain": [
       "27"
      ]
     },
     "execution_count": 7,
     "metadata": {},
     "output_type": "execute_result"
    }
   ],
   "source": [
    "# build vocab and mappings\n",
    "chars = sorted(list(set(''.join(words))))\n",
    "itos = {i+1:c for i,c in enumerate(chars)}\n",
    "itos[0] = \".\"\n",
    "stoi = {c:i for i,c in itos.items()}\n",
    "vocab_size = len(stoi)\n",
    "vocab_size"
   ]
  },
  {
   "cell_type": "code",
   "execution_count": 8,
   "id": "60a557a4-50dc-41fe-a9bb-63519e5238ec",
   "metadata": {},
   "outputs": [],
   "source": [
    "# build dataset\n",
    "block_size = 3\n",
    "\n",
    "def build_dataset(words):\n",
    "    X, Y = [], []\n",
    "    for w in words:\n",
    "        context = [0]*block_size\n",
    "        for ch in w + \".\":\n",
    "            ix = stoi[ch]\n",
    "            X.append(context)\n",
    "            Y.append(ix)\n",
    "            context = context[1:] + [ix]\n",
    "    X = torch.tensor(X)\n",
    "    Y = torch.tensor(Y)\n",
    "\n",
    "    print(X.shape, Y.shape)\n",
    "\n",
    "    return X, Y\n",
    "            "
   ]
  },
  {
   "cell_type": "code",
   "execution_count": 9,
   "id": "2e216d2a-3063-4dc4-86f0-686e56cb60a3",
   "metadata": {},
   "outputs": [
    {
     "name": "stdout",
     "output_type": "stream",
     "text": [
      "torch.Size([182625, 3]) torch.Size([182625])\n",
      "torch.Size([22655, 3]) torch.Size([22655])\n",
      "torch.Size([22866, 3]) torch.Size([22866])\n"
     ]
    }
   ],
   "source": [
    "# data splits\n",
    "import random\n",
    "random.seed(42)\n",
    "\n",
    "n1 = int(0.8 * len(words))\n",
    "n2 = int(0.9 * len(words))\n",
    "\n",
    "random.shuffle(words)\n",
    "\n",
    "\n",
    "Xtr, Ytr = build_dataset(words[:n1])\n",
    "Xdev, Ydev = build_dataset(words[n1:n2])\n",
    "Xte, Yte = build_dataset(words[n2:])"
   ]
  },
  {
   "cell_type": "code",
   "execution_count": 31,
   "id": "e22fa44f-3d6c-4c30-bd14-5eb1cea03381",
   "metadata": {},
   "outputs": [
    {
     "name": "stdout",
     "output_type": "stream",
     "text": [
      "Number of parameters: 12297\n"
     ]
    }
   ],
   "source": [
    "# MLP revisited\n",
    "n_embd = 10 # dimension of the characters embeddings\n",
    "neurons_hidden = 200\n",
    "\n",
    "g = torch.Generator().manual_seed(2147483647)\n",
    "C = torch.randn((vocab_size, n_embd),                       generator = g)\n",
    "W1 = torch.randn((n_embd * block_size, neurons_hidden),     generator = g) * 0.02\n",
    "b1 = torch.randn(neurons_hidden,                            generator = g) * 0.01\n",
    "W2 = torch.randn((neurons_hidden, vocab_size),              generator = g) * 0.01\n",
    "b2 = torch.randn(vocab_size,                                generator = g) * 0\n",
    "\n",
    "bngain =  torch.ones((1, neurons_hidden))\n",
    "bnbias = torch.zeros((1, neurons_hidden))\n",
    "\n",
    "parameters = [C, W1, b1, W2, b2, bngain, bnbias]\n",
    "\n",
    "print(f\"Number of parameters: {sum(p.nelement() for p in parameters)}\")\n",
    "\n",
    "for p in parameters:\n",
    "    p.requires_grad = True"
   ]
  },
  {
   "cell_type": "code",
   "execution_count": null,
   "id": "ebc96fd9-151e-4f14-bce1-81fb2420ce9e",
   "metadata": {},
   "outputs": [
    {
     "name": "stdout",
     "output_type": "stream",
     "text": [
      "      0/ 200000: 3.314689\n",
      "  10000/ 200000: 2.154984\n",
      "  20000/ 200000: 2.305854\n",
      "  30000/ 200000: 2.416523\n",
      "  40000/ 200000: 1.950499\n",
      "  50000/ 200000: 2.292465\n",
      "  60000/ 200000: 2.391149\n",
      "  70000/ 200000: 2.087268\n",
      "  80000/ 200000: 2.373348\n",
      "  90000/ 200000: 2.159687\n",
      " 100000/ 200000: 1.907540\n",
      " 110000/ 200000: 2.391078\n",
      " 120000/ 200000: 1.860608\n",
      " 130000/ 200000: 2.463813\n",
      " 140000/ 200000: 2.458199\n",
      " 150000/ 200000: 2.355335\n",
      " 160000/ 200000: 1.855891\n"
     ]
    }
   ],
   "source": [
    "# optimization\n",
    "max_steps = 200000\n",
    "batch_size = 32\n",
    "lossi = list()\n",
    "\n",
    "for i in range(max_steps):\n",
    "\n",
    "    # minibatch construct \n",
    "    ix = torch.randint(0, Xtr.shape[0], (batch_size, ), generator = g)\n",
    "    Xb, Yb = Xtr[ix], Ytr[ix]\n",
    "\n",
    "    # forward pass\n",
    "    emb = C[Xb]\n",
    "    embcat = emb.view(emb.shape[0], -1)\n",
    "    hpreact = embcat @ W1 + b1\n",
    "    bn = bngain * (hpreact - hpreact.mean(0, keepdim=True)) / hpreact.std(0, keepdim=True) + bnbias\n",
    "    h = torch.tanh(bn)\n",
    "    logits = h @ W2 + b2\n",
    "    loss = F.cross_entropy(logits, Yb)\n",
    "\n",
    "    # backward pass\n",
    "    for p in parameters:\n",
    "        p.grad = None\n",
    "    loss.backward()\n",
    "\n",
    "    # gradient\n",
    "    lr = 0.1\n",
    "    for p in parameters:\n",
    "        p.data += -lr * p.grad\n",
    "\n",
    "    # track stats\n",
    "    if (i % 10000) == 0:\n",
    "        print(f\"{i:7d}/{max_steps:7d}: {loss.item():4f}\")\n",
    "    lossi.append(loss.log10().item())\n",
    "    \n",
    "\n"
   ]
  },
  {
   "cell_type": "code",
   "execution_count": null,
   "id": "719bc48b-113d-4c1e-a180-1f254f1a4b1d",
   "metadata": {},
   "outputs": [],
   "source": [
    "plt.plot(lossi)"
   ]
  },
  {
   "cell_type": "code",
   "execution_count": 27,
   "id": "86512a0a-96b0-4ad1-a9f1-a14d499e5ea8",
   "metadata": {},
   "outputs": [
    {
     "name": "stdout",
     "output_type": "stream",
     "text": [
      "train 2.1399481296539307\n",
      "val 2.1773862838745117\n"
     ]
    }
   ],
   "source": [
    "@torch.no_grad()\n",
    "def split_loss(split):\n",
    "    x,y = {\n",
    "        'train': (Xtr, Ytr),\n",
    "        'val': (Xdev, Ydev),\n",
    "        'test': (Xte, Yte)\n",
    "    }[split]\n",
    "    emb = C[x]\n",
    "    h = torch.tanh(emb.view(emb.shape[0], -1) @ W1 + b1)\n",
    "    logits = h @ W2 + b2\n",
    "    loss = F.cross_entropy(logits, y)\n",
    "    print(split, loss.item())\n",
    "\n",
    "split_loss('train')\n",
    "split_loss('val')"
   ]
  },
  {
   "cell_type": "code",
   "execution_count": 15,
   "id": "0e5666f3-046a-4b4b-bd4f-e86ceded290c",
   "metadata": {},
   "outputs": [
    {
     "name": "stdout",
     "output_type": "stream",
     "text": [
      "carpaizamori.\n",
      "kahlimreigelly.\n",
      "skanyla.\n",
      "jazon.\n",
      "nadellari.\n",
      "kaeli.\n",
      "nellari.\n",
      "chriha.\n",
      "kaleigh.\n",
      "ham.\n",
      "join.\n",
      "quinn.\n",
      "salin.\n",
      "alvin.\n",
      "quin.\n",
      "elon.\n",
      "jarisi.\n",
      "jaxek.\n",
      "druan.\n",
      "eddeco.\n",
      "akette.\n"
     ]
    }
   ],
   "source": [
    "# sample from the model\n",
    "g = torch.Generator().manual_seed(2147483647 + 10 )\n",
    "\n",
    "num_names = 21\n",
    "for _ in range(num_names):\n",
    "    out = list()\n",
    "    context = [0] * block_size\n",
    "    while True:\n",
    "        # forward pass\n",
    "        emb = C[context]\n",
    "        embcat = emb.view(emb.shape[0], -1)\n",
    "        hpreact = embcat @ W1 + b1\n",
    "        bn = bngain * (hpreact - hpreact.mean(0, keepdim=True)) / hpreact.std(0, keepdim=True) + bnbias\n",
    "        h = torch.tanh(bn)\n",
    "        logits = h @ W2 + b2\n",
    "        probs = F.softmax(logits, dim=1)\n",
    "\n",
    "        # sample from the distribution\n",
    "        ix = torch.multinomial(probs, num_samples = 1, generator = g).item()\n",
    "\n",
    "        # shift context window\n",
    "        context = context[1:] + [ix]\n",
    "\n",
    "        # update new character\n",
    "        out.append(ix)\n",
    "\n",
    "        if ix == 0:\n",
    "            break\n",
    "    print(''.join(itos[i] for i in out))"
   ]
  },
  {
   "cell_type": "code",
   "execution_count": 16,
   "id": "9c685a10-c7b1-4973-9ac3-1ef95f0f67f9",
   "metadata": {},
   "outputs": [
    {
     "data": {
      "text/plain": [
       "tensor([[ 0.8660,  1.3616,  1.0285,  1.2456, -2.8291,  0.7561,  1.0798, -0.6981,\n",
       "          0.3674, -1.2248,  0.8660,  1.3616,  1.0285,  1.2456, -2.8291,  0.7561,\n",
       "          1.0798, -0.6981,  0.3674, -1.2248,  0.1842,  1.8567,  0.8110, -1.6495,\n",
       "          0.3114, -0.9939,  1.0422,  0.6534, -1.1143, -1.5444]],\n",
       "       grad_fn=<ViewBackward0>)"
      ]
     },
     "execution_count": 16,
     "metadata": {},
     "output_type": "execute_result"
    }
   ],
   "source": [
    "emb.view(1, -1)"
   ]
  },
  {
   "cell_type": "code",
   "execution_count": 17,
   "id": "b88edbc1-e522-48eb-bf6b-7c04c6eee4e1",
   "metadata": {},
   "outputs": [
    {
     "data": {
      "text/plain": [
       "torch.Size([3, 10])"
      ]
     },
     "execution_count": 17,
     "metadata": {},
     "output_type": "execute_result"
    }
   ],
   "source": [
    "emb.view(emb.shape[0], -1).shape"
   ]
  },
  {
   "cell_type": "code",
   "execution_count": 19,
   "id": "6a6ef62d-afc9-402c-bda5-d3969acae597",
   "metadata": {},
   "outputs": [
    {
     "data": {
      "text/plain": [
       "torch.Size([3, 10])"
      ]
     },
     "execution_count": 19,
     "metadata": {},
     "output_type": "execute_result"
    }
   ],
   "source": [
    "emb.shape"
   ]
  },
  {
   "cell_type": "markdown",
   "id": "9ab318ec-2757-443b-9cdc-18bf1088533e",
   "metadata": {},
   "source": [
    "## Problems with our previous implementation"
   ]
  },
  {
   "cell_type": "markdown",
   "id": "81cd8a55-e476-4e1b-aa11-94f54ff4d733",
   "metadata": {},
   "source": [
    "### Fixing the initial loss\n",
    "The first item of the loss is too high and then it stabilizes. That causes the loss plot to look like a hockey stick which gauges that the model is learning the bias only in the first iterations. \n",
    "- **Cause:** A poor initialization of the last layers wandb\n",
    "- **Solution:** Scale `W1` by `0.01` and set `b2 = b2 * 0`"
   ]
  },
  {
   "cell_type": "markdown",
   "id": "335ac871-d1af-4da5-a11b-1b12d78606ff",
   "metadata": {},
   "source": [
    "### Fixing saturated tanh\n",
    "- If we see the values of `h` after the first iteration we see this\n",
    "``` tensor([[-0.9620, -1.0000, -1.0000,  ..., -0.1601, -1.0000, -1.0000],\n",
    "        [ 0.1131,  0.2711, -1.0000,  ..., -0.9979,  0.9930,  1.0000],\n",
    "        [-1.0000,  0.9604, -0.1418,  ..., -0.1266,  1.0000,  1.0000],\n",
    "        ...,\n",
    "        [-0.1424, -0.9988, -0.7355,  ..., -1.0000,  1.0000,  1.0000],\n",
    "        [-0.9610,  0.7872, -0.9890,  ..., -1.0000,  0.9994,  1.0000],\n",
    "        [-0.9620, -1.0000, -1.0000,  ..., -0.1601, -1.0000, -1.0000]],\n",
    "       grad_fn=<TanhBackward0>)\n",
    "```\n",
    "\n",
    "- If wee see the values of `h` in a histogram we get this\n"
   ]
  },
  {
   "cell_type": "code",
   "execution_count": 28,
   "id": "216199a5-2d4c-4fb8-8874-2c9d5db5495e",
   "metadata": {},
   "outputs": [
    {
     "data": {
      "text/plain": [
       "(array([ 625.,   80.,   55.,   50.,   49.,   32.,   22.,   25.,   31.,\n",
       "          24.,   45.,   30.,   20.,   20.,   11.,   22.,   22.,   28.,\n",
       "          34.,   58.,   51.,   90.,  192.,  378., 1102., 1073.,  422.,\n",
       "         141.,  118.,   59.,   52.,   38.,   59.,   35.,   45.,   22.,\n",
       "          30.,   18.,   18.,   33.,   41.,   30.,   22.,   30.,   46.,\n",
       "          49.,   45.,   83.,   98.,  697.]),\n",
       " array([-1.  , -0.96, -0.92, -0.88, -0.84, -0.8 , -0.76, -0.72, -0.68,\n",
       "        -0.64, -0.6 , -0.56, -0.52, -0.48, -0.44, -0.4 , -0.36, -0.32,\n",
       "        -0.28, -0.24, -0.2 , -0.16, -0.12, -0.08, -0.04,  0.  ,  0.04,\n",
       "         0.08,  0.12,  0.16,  0.2 ,  0.24,  0.28,  0.32,  0.36,  0.4 ,\n",
       "         0.44,  0.48,  0.52,  0.56,  0.6 ,  0.64,  0.68,  0.72,  0.76,\n",
       "         0.8 ,  0.84,  0.88,  0.92,  0.96,  1.  ]),\n",
       " <BarContainer object of 50 artists>)"
      ]
     },
     "execution_count": 28,
     "metadata": {},
     "output_type": "execute_result"
    },
    {
     "data": {
      "image/png": "[encoded data removed]",
      "text/plain": [
       "<Figure size 640x480 with 1 Axes>"
      ]
     },
     "metadata": {},
     "output_type": "display_data"
    }
   ],
   "source": [
    "plt.hist(h.view(-1).tolist(), 50)"
   ]
  },
  {
   "cell_type": "markdown",
   "id": "3324b1f6-c321-45d9-b77c-6043f1a17349",
   "metadata": {
    "collapsed": true,
    "jupyter": {
     "outputs_hidden": true
    }
   },
   "source": [
    "That histograms tells us that this `tanh` function is very active (extreme values are more frequent ones). We can see why is that seeing the preactivations of `h`"
   ]
  },
  {
   "cell_type": "code",
   "execution_count": 29,
   "id": "347451b2-d41e-42c1-887d-c41e8ad77ba0",
   "metadata": {},
   "outputs": [],
   "source": [
    "hpreact = emb.view(-1, block_size * n_embd) @ W1 + b1"
   ]
  },
  {
   "cell_type": "code",
   "execution_count": 30,
   "id": "5afa46d7-dc72-4fb0-ba55-9c06589f6410",
   "metadata": {},
   "outputs": [
    {
     "data": {
      "text/plain": [
       "(array([1.000e+00, 0.000e+00, 0.000e+00, 2.000e+00, 0.000e+00, 0.000e+00,\n",
       "        3.000e+00, 1.000e+00, 2.000e+00, 4.000e+00, 8.000e+00, 7.000e+00,\n",
       "        1.100e+01, 2.000e+01, 2.600e+01, 2.300e+01, 3.700e+01, 5.600e+01,\n",
       "        6.200e+01, 9.100e+01, 9.400e+01, 1.020e+02, 1.260e+02, 1.200e+02,\n",
       "        1.690e+02, 2.370e+02, 3.733e+03, 3.310e+02, 2.040e+02, 1.710e+02,\n",
       "        1.310e+02, 1.160e+02, 1.060e+02, 8.200e+01, 5.000e+01, 3.400e+01,\n",
       "        5.000e+01, 3.900e+01, 3.000e+01, 2.700e+01, 2.200e+01, 1.700e+01,\n",
       "        6.000e+00, 1.900e+01, 5.000e+00, 3.000e+00, 1.100e+01, 6.000e+00,\n",
       "        3.000e+00, 2.000e+00]),\n",
       " array([-13.06392956, -12.57200649, -12.08008343, -11.58816036,\n",
       "        -11.0962373 , -10.60431423, -10.11239117,  -9.6204681 ,\n",
       "         -9.12854504,  -8.63662197,  -8.14469891,  -7.65277584,\n",
       "         -7.16085278,  -6.66892971,  -6.17700665,  -5.68508358,\n",
       "         -5.19316051,  -4.70123745,  -4.20931438,  -3.71739132,\n",
       "         -3.22546825,  -2.73354519,  -2.24162212,  -1.74969906,\n",
       "         -1.25777599,  -0.76585293,  -0.27392986,   0.2179932 ,\n",
       "          0.70991627,   1.20183933,   1.6937624 ,   2.18568546,\n",
       "          2.67760853,   3.16953159,   3.66145466,   4.15337772,\n",
       "          4.64530079,   5.13722385,   5.62914692,   6.12106998,\n",
       "          6.61299305,   7.10491611,   7.59683918,   8.08876225,\n",
       "          8.58068531,   9.07260838,   9.56453144,  10.05645451,\n",
       "         10.54837757,  11.04030064,  11.5322237 ]),\n",
       " <BarContainer object of 50 artists>)"
      ]
     },
     "execution_count": 30,
     "metadata": {},
     "output_type": "execute_result"
    },
    {
     "data": {
      "image/png": "[encoded data removed]",
      "text/plain": [
       "<Figure size 640x480 with 1 Axes>"
      ]
     },
     "metadata": {},
     "output_type": "display_data"
    }
   ],
   "source": [
    "plt.hist(hpreact.view(-1).tolist(), 50)"
   ]
  },
  {
   "cell_type": "code",
   "execution_count": 21,
   "id": "4d6de513-fd41-4f21-a82e-df86e7047b29",
   "metadata": {},
   "outputs": [
    {
     "data": {
      "text/plain": [
       "<matplotlib.image.AxesImage at 0x10d7811c0>"
      ]
     },
     "execution_count": 21,
     "metadata": {},
     "output_type": "execute_result"
    },
    {
     "data": {
      "image/png": "[encoded data removed]",
      "text/plain": [
       "<Figure size 1000x1000 with 1 Axes>"
      ]
     },
     "metadata": {},
     "output_type": "display_data"
    }
   ],
   "source": [
    "plt.figure(figsize=(10,10))\n",
    "plt.imshow(h.abs() > 0.99, cmap='gray', interpolation='nearest')"
   ]
  },
  {
   "cell_type": "markdown",
   "id": "ad1e9466-4498-4210-81a1-558564d8bf19",
   "metadata": {},
   "source": [
    "The previous map shows the specific neurons that are saturating the activation function, tanh. 200 neurons and 32 logits (output). If we see a lot of white cells it means the model is not learning because information is lost in the activation.\n",
    "- **Cause:** Initialization of `W1` and `b1` weights.\n",
    "- **Solution:** Scaling initial weights by `0.01`"
   ]
  },
  {
   "cell_type": "markdown",
   "id": "472beabd-4e97-407a-94eb-b068b9ec77da",
   "metadata": {},
   "source": [
    "## Kaiming init\n",
    "Kaiming He et al propose a method for initializing the initial weights using a factor that prevents data spreading or getting to narrow by keeping the standard deviation the same.\n",
    "This is done by multiplying my $\\text{std} = \\frac{\\text{gain}}{\\sqrt{\\text{fan\\_in}}}$ where $\\text{gain}$ is a related to the activation function (for tanh is 5/3); and $\\text{fan\\_in}$ is the number of input features in the model\n",
    "\n",
    "`W1 = torch.randn((n_embd * block_size, neurons_hidden),     generator = g) * (5/3) / (n_embd * block_size)*1/2`\n",
    "\n",
    "This is equivalent to using the `torch` function\n",
    "```\n",
    "torch.nn.init.kaiming_normal_(tensor, a=0, mode='fan_in', nonlinearity='leaky_relu', generator=None)\n",
    "```"
   ]
  },
  {
   "cell_type": "code",
   "execution_count": 78,
   "id": "88b9dd19-ab83-441c-8ff2-eb596c346f26",
   "metadata": {},
   "outputs": [
    {
     "data": {
      "text/plain": [
       "0.02777777777777778"
      ]
     },
     "execution_count": 78,
     "metadata": {},
     "output_type": "execute_result"
    }
   ],
   "source": [
    "(5/3) / (n_embd * block_size)*1/2 # similar to what andrej suggested before"
   ]
  },
  {
   "cell_type": "markdown",
   "id": "d17a3ad0-5d02-4929-82d5-04684012f3c6",
   "metadata": {},
   "source": [
    "## Batch normalization\n",
    "Make the neurons activations roughly normal by \n",
    "1. Taking the mean of the batch pre-activations $\\mu_\\mathcal{B}$\n",
    "2. Taking the variance of the batch $\\sigma_{\\mathcal{B}}^2$\n",
    "3. And normalizing:  $\\hat{x} = \\frac{x-\\mu_\\mathcal{B}}{\\sigma}$\n",
    "\n",
    "Also, this normalization can change through out training. This can be done by shifting and scaling:\n",
    "$$y = \\gamma \\hat{x} + \\beta$$\n",
    "\n",
    "That can be done by adding this line \n",
    "```\n",
    "bn = bngain * (hpreact - hpreact.mean(0, keepdim=True)) / hpreact.std(0, keepdim=True) + bnbias\n",
    "```"
   ]
  },
  {
   "cell_type": "code",
   "execution_count": null,
   "id": "190f0cc4-7fa1-4548-8c24-41d3fd16872d",
   "metadata": {},
   "outputs": [],
   "source": []
  },
  {
   "cell_type": "code",
   "execution_count": null,
   "id": "a1e39f7c-b96e-404a-a2bf-a48665f9c03f",
   "metadata": {},
   "outputs": [],
   "source": []
  }
 ],
 "metadata": {
  "kernelspec": {
   "display_name": "Python (makemore)",
   "language": "python",
   "name": "makemore"
  },
  "language_info": {
   "codemirror_mode": {
    "name": "ipython",
    "version": 3
   },
   "file_extension": ".py",
   "mimetype": "text/x-python",
   "name": "python",
   "nbconvert_exporter": "python",
   "pygments_lexer": "ipython3",
   "version": "3.9.6"
  }
 },
 "nbformat": 4,
 "nbformat_minor": 5
}
